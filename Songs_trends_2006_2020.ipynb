{
 "cells": [
  {
   "cell_type": "markdown",
   "metadata": {},
   "source": [
    "# Introduction\n",
    "Top 100 songs of the year 2006 - 2020"
   ]
  },
  {
   "cell_type": "markdown",
   "metadata": {},
   "source": [
    "## Project description"
   ]
  },
  {
   "cell_type": "markdown",
   "metadata": {},
   "source": [
    "Here is supposed to be project description"
   ]
  },
  {
   "cell_type": "markdown",
   "metadata": {},
   "source": [
    "## Importing libraries"
   ]
  },
  {
   "cell_type": "code",
   "execution_count": 1,
   "metadata": {
    "ExecuteTime": {
     "end_time": "2021-06-17T20:17:04.120891Z",
     "start_time": "2021-06-17T20:17:03.661068Z"
    }
   },
   "outputs": [],
   "source": [
    "from bs4 import BeautifulSoup\n",
    "import pandas as pd\n",
    "import numpy as np\n",
    "import wget\n",
    "import glob\n",
    "import os\n",
    "from twython import Twython\n",
    "from credentials import * \n",
    "import requests\n",
    "import json"
   ]
  },
  {
   "cell_type": "markdown",
   "metadata": {},
   "source": [
    "# Downloading data and scraping HTML websites \n",
    "Downloading HTML webpages with top 100 songs by year from www.billboard.com\n",
    "- url - https://www.billboard.com/charts/year-end/hot-100-songs"
   ]
  },
  {
   "cell_type": "markdown",
   "metadata": {},
   "source": [
    "## Downloading data"
   ]
  },
  {
   "cell_type": "markdown",
   "metadata": {},
   "source": [
    "Here download data"
   ]
  },
  {
   "cell_type": "markdown",
   "metadata": {},
   "source": [
    "## Scraping\n",
    "- Scrape data from downloaded webpages and transform it into a `dataframe`"
   ]
  },
  {
   "cell_type": "code",
   "execution_count": 2,
   "metadata": {
    "ExecuteTime": {
     "end_time": "2021-06-17T19:49:25.913141Z",
     "start_time": "2021-06-17T19:49:25.906620Z"
    }
   },
   "outputs": [],
   "source": [
    "def get_webpage_data(start_year, end_year):\n",
    "    \n",
    "    df_full = pd.DataFrame()\n",
    "    \n",
    "    for i in range(start_year,end_year+1):\n",
    "        year = i\n",
    "    \n",
    "        year = str(year)\n",
    "\n",
    "        web_page = BeautifulSoup(open('../Top-songs-2006-2020/HTMLs/Top_100_'+year+'.html'), 'html.parser')\n",
    "\n",
    "        all_titles = web_page.select('.ye-chart-item__title')\n",
    "        all_artist = web_page.select('.ye-chart-item__artist')\n",
    "        all_ranks = web_page.select('.ye-chart-item__rank')\n",
    "\n",
    "        ranks_list = []\n",
    "        for rank in all_ranks:\n",
    "            ranks_list.append(rank.get_text().replace('\\n', ''))\n",
    "\n",
    "        titles_list = []\n",
    "        for title in all_titles:\n",
    "            titles_list.append(title.get_text().replace('\\n', ''))\n",
    "\n",
    "        artist_list = []\n",
    "        for artist in all_artist:\n",
    "            artist_list.append(artist.get_text().replace('\\n', ''))\n",
    "\n",
    "        year_list = []\n",
    "        for year in web_page.select('.ye-chart-item__primary-row'):\n",
    "            year_list.append(year['data-date'])\n",
    "\n",
    "        df = pd.DataFrame(data = [ranks_list, titles_list, artist_list, year_list]).T\n",
    "        df.columns = ['Rank', 'Title', 'Artist', 'Year']\n",
    "\n",
    "        df_full = df_full.append(df)\n",
    "        \n",
    "    return df_full"
   ]
  },
  {
   "cell_type": "code",
   "execution_count": 27,
   "metadata": {
    "ExecuteTime": {
     "end_time": "2021-06-17T20:05:22.598455Z",
     "start_time": "2021-06-17T20:05:17.968132Z"
    }
   },
   "outputs": [
    {
     "data": {
      "text/html": [
       "<div>\n",
       "<style scoped>\n",
       "    .dataframe tbody tr th:only-of-type {\n",
       "        vertical-align: middle;\n",
       "    }\n",
       "\n",
       "    .dataframe tbody tr th {\n",
       "        vertical-align: top;\n",
       "    }\n",
       "\n",
       "    .dataframe thead th {\n",
       "        text-align: right;\n",
       "    }\n",
       "</style>\n",
       "<table border=\"1\" class=\"dataframe\">\n",
       "  <thead>\n",
       "    <tr style=\"text-align: right;\">\n",
       "      <th></th>\n",
       "      <th>Rank</th>\n",
       "      <th>Title</th>\n",
       "      <th>Artist</th>\n",
       "      <th>Year</th>\n",
       "    </tr>\n",
       "  </thead>\n",
       "  <tbody>\n",
       "    <tr>\n",
       "      <th>0</th>\n",
       "      <td>1</td>\n",
       "      <td>Bad Day</td>\n",
       "      <td>Daniel Powter</td>\n",
       "      <td>2006</td>\n",
       "    </tr>\n",
       "    <tr>\n",
       "      <th>1</th>\n",
       "      <td>2</td>\n",
       "      <td>Temperature</td>\n",
       "      <td>Sean Paul</td>\n",
       "      <td>2006</td>\n",
       "    </tr>\n",
       "    <tr>\n",
       "      <th>2</th>\n",
       "      <td>3</td>\n",
       "      <td>Promiscuous</td>\n",
       "      <td>Nelly Furtado Featuring Timbaland</td>\n",
       "      <td>2006</td>\n",
       "    </tr>\n",
       "    <tr>\n",
       "      <th>3</th>\n",
       "      <td>4</td>\n",
       "      <td>You're Beautiful</td>\n",
       "      <td>James Blunt</td>\n",
       "      <td>2006</td>\n",
       "    </tr>\n",
       "    <tr>\n",
       "      <th>4</th>\n",
       "      <td>5</td>\n",
       "      <td>Hips Don't Lie</td>\n",
       "      <td>Shakira Featuring Wyclef Jean</td>\n",
       "      <td>2006</td>\n",
       "    </tr>\n",
       "    <tr>\n",
       "      <th>...</th>\n",
       "      <td>...</td>\n",
       "      <td>...</td>\n",
       "      <td>...</td>\n",
       "      <td>...</td>\n",
       "    </tr>\n",
       "    <tr>\n",
       "      <th>1493</th>\n",
       "      <td>96</td>\n",
       "      <td>More Than My Hometown</td>\n",
       "      <td>Morgan Wallen</td>\n",
       "      <td>2020</td>\n",
       "    </tr>\n",
       "    <tr>\n",
       "      <th>1494</th>\n",
       "      <td>97</td>\n",
       "      <td>Lovin' On You</td>\n",
       "      <td>Luke Combs</td>\n",
       "      <td>2020</td>\n",
       "    </tr>\n",
       "    <tr>\n",
       "      <th>1495</th>\n",
       "      <td>98</td>\n",
       "      <td>Said Sum</td>\n",
       "      <td>Moneybagg Yo</td>\n",
       "      <td>2020</td>\n",
       "    </tr>\n",
       "    <tr>\n",
       "      <th>1496</th>\n",
       "      <td>99</td>\n",
       "      <td>Slide</td>\n",
       "      <td>H.E.R. Featuring YG</td>\n",
       "      <td>2020</td>\n",
       "    </tr>\n",
       "    <tr>\n",
       "      <th>1497</th>\n",
       "      <td>100</td>\n",
       "      <td>Walk Em Down</td>\n",
       "      <td>NLE Choppa Featuring Roddy Ricch</td>\n",
       "      <td>2020</td>\n",
       "    </tr>\n",
       "  </tbody>\n",
       "</table>\n",
       "<p>1498 rows × 4 columns</p>\n",
       "</div>"
      ],
      "text/plain": [
       "     Rank                  Title                             Artist  Year\n",
       "0       1                Bad Day                      Daniel Powter  2006\n",
       "1       2            Temperature                          Sean Paul  2006\n",
       "2       3            Promiscuous  Nelly Furtado Featuring Timbaland  2006\n",
       "3       4       You're Beautiful                        James Blunt  2006\n",
       "4       5         Hips Don't Lie      Shakira Featuring Wyclef Jean  2006\n",
       "...   ...                    ...                                ...   ...\n",
       "1493   96  More Than My Hometown                      Morgan Wallen  2020\n",
       "1494   97          Lovin' On You                         Luke Combs  2020\n",
       "1495   98               Said Sum                       Moneybagg Yo  2020\n",
       "1496   99                  Slide                H.E.R. Featuring YG  2020\n",
       "1497  100           Walk Em Down   NLE Choppa Featuring Roddy Ricch  2020\n",
       "\n",
       "[1498 rows x 4 columns]"
      ]
     },
     "execution_count": 27,
     "metadata": {},
     "output_type": "execute_result"
    }
   ],
   "source": [
    "full_df = get_webpage_data(2006,2020)\n",
    "full_df.reset_index(drop = True, inplace = True)\n",
    "full_df"
   ]
  },
  {
   "cell_type": "markdown",
   "metadata": {},
   "source": [
    "# Spotify API"
   ]
  },
  {
   "cell_type": "markdown",
   "metadata": {},
   "source": [
    "## Set up API"
   ]
  },
  {
   "cell_type": "code",
   "execution_count": 10,
   "metadata": {
    "ExecuteTime": {
     "end_time": "2021-06-17T20:31:41.213984Z",
     "start_time": "2021-06-17T20:31:41.211635Z"
    }
   },
   "outputs": [],
   "source": [
    "client_id = 'd4ba214546c0407b82d21cac4727e14f'\n",
    "client_secret = '777e3d2c832942448d61ee11640e8f85'"
   ]
  },
  {
   "cell_type": "code",
   "execution_count": 13,
   "metadata": {
    "ExecuteTime": {
     "end_time": "2021-06-17T20:32:35.408166Z",
     "start_time": "2021-06-17T20:32:35.240724Z"
    }
   },
   "outputs": [],
   "source": [
    "auth_url = 'https://accounts.spotify.com/api/token'\n",
    "\n",
    "auth_response = requests.post(auth_url, {\n",
    "    'grant_type':'client_credentials',\n",
    "    'client_id': client_id,\n",
    "    'client_secret': client_secret,\n",
    "})\n",
    "\n",
    "auth_response_data = auth_response.json()\n",
    "access_token = auth_response_data['access_token']\n",
    "headers = {'Authorization': 'Bearer {token}'.format(token = access_token)}"
   ]
  },
  {
   "cell_type": "markdown",
   "metadata": {},
   "source": [
    "## Next step"
   ]
  },
  {
   "cell_type": "code",
   "execution_count": 96,
   "metadata": {
    "ExecuteTime": {
     "end_time": "2021-06-17T21:25:00.654017Z",
     "start_time": "2021-06-17T21:25:00.651450Z"
    }
   },
   "outputs": [],
   "source": [
    "track_name = \"Hips Don't Lie\"\n",
    "url = 'https://api.spotify.com/v1/search'"
   ]
  },
  {
   "cell_type": "code",
   "execution_count": 97,
   "metadata": {
    "ExecuteTime": {
     "end_time": "2021-06-17T21:25:03.579296Z",
     "start_time": "2021-06-17T21:25:03.261365Z"
    }
   },
   "outputs": [],
   "source": [
    "track = requests.get(url, headers = headers, params = {'q':track_name, 'type':'track'}).json()"
   ]
  },
  {
   "cell_type": "code",
   "execution_count": 98,
   "metadata": {
    "ExecuteTime": {
     "end_time": "2021-06-17T21:25:03.665055Z",
     "start_time": "2021-06-17T21:25:03.662694Z"
    }
   },
   "outputs": [],
   "source": [
    "# cia track id: 0mUyMawtxj1CJ76kn9gIZK istraukti reikia"
   ]
  },
  {
   "cell_type": "code",
   "execution_count": 99,
   "metadata": {
    "ExecuteTime": {
     "end_time": "2021-06-17T21:25:04.417092Z",
     "start_time": "2021-06-17T21:25:04.413446Z"
    }
   },
   "outputs": [],
   "source": [
    "track_name = track['tracks']['items'][0]['name']\n",
    "track_id = track['tracks']['items'][0]['id']\n",
    "track_duration_ms = track['tracks']['items'][0]['duration_ms']\n",
    "track_explicit = track['tracks']['items'][0]['explicit']\n",
    "track_popularity = track['tracks']['items'][0]['popularity']"
   ]
  },
  {
   "cell_type": "code",
   "execution_count": 100,
   "metadata": {
    "ExecuteTime": {
     "end_time": "2021-06-17T21:25:05.425690Z",
     "start_time": "2021-06-17T21:25:05.421812Z"
    }
   },
   "outputs": [
    {
     "data": {
      "text/plain": [
       "\"Hips Don't Lie (feat. Wyclef Jean)\""
      ]
     },
     "execution_count": 100,
     "metadata": {},
     "output_type": "execute_result"
    }
   ],
   "source": [
    "track_name"
   ]
  },
  {
   "cell_type": "code",
   "execution_count": 101,
   "metadata": {
    "ExecuteTime": {
     "end_time": "2021-06-17T21:25:19.400927Z",
     "start_time": "2021-06-17T21:25:19.397528Z"
    }
   },
   "outputs": [
    {
     "data": {
      "text/plain": [
       "'3ZFTkvIE7kyPt6Nu3PEa7V'"
      ]
     },
     "execution_count": 101,
     "metadata": {},
     "output_type": "execute_result"
    }
   ],
   "source": [
    "track_id"
   ]
  },
  {
   "cell_type": "code",
   "execution_count": null,
   "metadata": {},
   "outputs": [],
   "source": []
  },
  {
   "cell_type": "code",
   "execution_count": null,
   "metadata": {},
   "outputs": [],
   "source": []
  },
  {
   "cell_type": "code",
   "execution_count": null,
   "metadata": {},
   "outputs": [],
   "source": []
  },
  {
   "cell_type": "code",
   "execution_count": null,
   "metadata": {},
   "outputs": [],
   "source": []
  },
  {
   "cell_type": "markdown",
   "metadata": {},
   "source": [
    "### What to extract from spotify:\n",
    "- release_date\n",
    "- track id\n",
    "- artist id\n",
    "- name (of the artist / band)\n",
    "- type (artist/band)\n",
    "- duration (seconds)\n",
    "- genres\n",
    "- popularity?\n",
    "- "
   ]
  },
  {
   "cell_type": "code",
   "execution_count": null,
   "metadata": {},
   "outputs": [],
   "source": []
  },
  {
   "cell_type": "markdown",
   "metadata": {
    "ExecuteTime": {
     "end_time": "2021-06-17T20:45:24.333985Z",
     "start_time": "2021-06-17T20:45:24.331866Z"
    }
   },
   "source": [
    "## rough notebook"
   ]
  },
  {
   "cell_type": "code",
   "execution_count": null,
   "metadata": {},
   "outputs": [],
   "source": [
    "'''\n",
    "audio_features=[]\n",
    "for track_id in artist_track_id:\n",
    "    audio_url= 'https://api.spotify.com/v1/audio-features/'+track_id\n",
    "    res=requests.get(audio_url,headers=headers)\n",
    "    audio_info=res.json()\n",
    "    audio_features.append(audio_info)\n",
    "'''"
   ]
  },
  {
   "cell_type": "code",
   "execution_count": 16,
   "metadata": {
    "ExecuteTime": {
     "end_time": "2021-06-17T20:40:08.370247Z",
     "start_time": "2021-06-17T20:40:08.367840Z"
    }
   },
   "outputs": [],
   "source": [
    "artist_name = 'Depeche Mode'\n",
    "url = 'https://api.spotify.com/v1/search'"
   ]
  },
  {
   "cell_type": "code",
   "execution_count": 24,
   "metadata": {
    "ExecuteTime": {
     "end_time": "2021-06-17T20:43:35.267537Z",
     "start_time": "2021-06-17T20:43:35.080814Z"
    }
   },
   "outputs": [],
   "source": [
    "artist = requests.get(url, params = {'q':artist_name, 'type':'artist', 'market':'DK'}, headers = headers)"
   ]
  },
  {
   "cell_type": "code",
   "execution_count": 25,
   "metadata": {
    "ExecuteTime": {
     "end_time": "2021-06-17T20:43:41.307310Z",
     "start_time": "2021-06-17T20:43:41.303700Z"
    }
   },
   "outputs": [
    {
     "data": {
      "text/plain": [
       "<Response [200]>"
      ]
     },
     "execution_count": 25,
     "metadata": {},
     "output_type": "execute_result"
    }
   ],
   "source": [
    "artist"
   ]
  },
  {
   "cell_type": "code",
   "execution_count": 26,
   "metadata": {
    "ExecuteTime": {
     "end_time": "2021-06-17T20:44:29.267463Z",
     "start_time": "2021-06-17T20:44:29.102579Z"
    }
   },
   "outputs": [
    {
     "data": {
      "text/plain": [
       "{'artists': [{'external_urls': {'spotify': 'https://open.spotify.com/artist/762310PdDnwsDxAQxzQkfX'},\n",
       "   'followers': {'href': None, 'total': 3929177},\n",
       "   'genres': ['dance rock',\n",
       "    'new romantic',\n",
       "    'new wave',\n",
       "    'permanent wave',\n",
       "    'synthpop'],\n",
       "   'href': 'https://api.spotify.com/v1/artists/762310PdDnwsDxAQxzQkfX',\n",
       "   'id': '762310PdDnwsDxAQxzQkfX',\n",
       "   'images': [{'height': 640,\n",
       "     'url': 'https://i.scdn.co/image/2ec1d1c7a48df4244f0ba708eafd28b7afa6166b',\n",
       "     'width': 640},\n",
       "    {'height': 320,\n",
       "     'url': 'https://i.scdn.co/image/ce06360d3762def7812fc5137e4e79c1467858bc',\n",
       "     'width': 320},\n",
       "    {'height': 160,\n",
       "     'url': 'https://i.scdn.co/image/b46a67a3085884321512a7a759b78c54ddb2bb31',\n",
       "     'width': 160}],\n",
       "   'name': 'Depeche Mode',\n",
       "   'popularity': 77,\n",
       "   'type': 'artist',\n",
       "   'uri': 'spotify:artist:762310PdDnwsDxAQxzQkfX'}]}"
      ]
     },
     "execution_count": 26,
     "metadata": {},
     "output_type": "execute_result"
    }
   ],
   "source": [
    "url = 'https://api.spotify.com/v1/artists'\n",
    "requests.get(url, headers = headers, params = {'ids':'762310PdDnwsDxAQxzQkfX'}).json()"
   ]
  },
  {
   "cell_type": "code",
   "execution_count": null,
   "metadata": {},
   "outputs": [],
   "source": []
  },
  {
   "cell_type": "code",
   "execution_count": null,
   "metadata": {},
   "outputs": [],
   "source": []
  },
  {
   "cell_type": "code",
   "execution_count": null,
   "metadata": {},
   "outputs": [],
   "source": []
  },
  {
   "cell_type": "code",
   "execution_count": null,
   "metadata": {},
   "outputs": [],
   "source": []
  },
  {
   "cell_type": "code",
   "execution_count": null,
   "metadata": {},
   "outputs": [],
   "source": []
  },
  {
   "cell_type": "code",
   "execution_count": null,
   "metadata": {},
   "outputs": [],
   "source": []
  },
  {
   "cell_type": "markdown",
   "metadata": {},
   "source": [
    "# Notes\n",
    "- add spotify API key and secret to different jupyter notebook and run it form here"
   ]
  },
  {
   "cell_type": "code",
   "execution_count": null,
   "metadata": {},
   "outputs": [],
   "source": []
  },
  {
   "cell_type": "code",
   "execution_count": null,
   "metadata": {},
   "outputs": [],
   "source": []
  }
 ],
 "metadata": {
  "kernelspec": {
   "display_name": "Python 3",
   "language": "python",
   "name": "python3"
  },
  "language_info": {
   "codemirror_mode": {
    "name": "ipython",
    "version": 3
   },
   "file_extension": ".py",
   "mimetype": "text/x-python",
   "name": "python",
   "nbconvert_exporter": "python",
   "pygments_lexer": "ipython3",
   "version": "3.8.5"
  },
  "latex_envs": {
   "LaTeX_envs_menu_present": true,
   "autoclose": false,
   "autocomplete": true,
   "bibliofile": "biblio.bib",
   "cite_by": "apalike",
   "current_citInitial": 1,
   "eqLabelWithNumbers": true,
   "eqNumInitial": 1,
   "hotkeys": {
    "equation": "Ctrl-E",
    "itemize": "Ctrl-I"
   },
   "labels_anchors": false,
   "latex_user_defs": false,
   "report_style_numbering": false,
   "user_envs_cfg": false
  },
  "toc": {
   "base_numbering": 1,
   "nav_menu": {},
   "number_sections": true,
   "sideBar": true,
   "skip_h1_title": false,
   "title_cell": "Table of Contents",
   "title_sidebar": "Contents",
   "toc_cell": false,
   "toc_position": {},
   "toc_section_display": true,
   "toc_window_display": false
  },
  "varInspector": {
   "cols": {
    "lenName": 16,
    "lenType": 16,
    "lenVar": 40
   },
   "kernels_config": {
    "python": {
     "delete_cmd_postfix": "",
     "delete_cmd_prefix": "del ",
     "library": "var_list.py",
     "varRefreshCmd": "print(var_dic_list())"
    },
    "r": {
     "delete_cmd_postfix": ") ",
     "delete_cmd_prefix": "rm(",
     "library": "var_list.r",
     "varRefreshCmd": "cat(var_dic_list()) "
    }
   },
   "types_to_exclude": [
    "module",
    "function",
    "builtin_function_or_method",
    "instance",
    "_Feature"
   ],
   "window_display": false
  }
 },
 "nbformat": 4,
 "nbformat_minor": 4
}
