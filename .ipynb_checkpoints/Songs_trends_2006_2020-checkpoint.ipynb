{
 "cells": [
  {
   "cell_type": "markdown",
   "metadata": {},
   "source": [
    "# Introduction\n",
    "Top 100 songs of the year 2006 - 2020"
   ]
  },
  {
   "cell_type": "markdown",
   "metadata": {},
   "source": [
    "## Project description"
   ]
  },
  {
   "cell_type": "markdown",
   "metadata": {},
   "source": [
    "Here is supposed to be project description"
   ]
  },
  {
   "cell_type": "markdown",
   "metadata": {},
   "source": [
    "## Importing libraries"
   ]
  },
  {
   "cell_type": "code",
   "execution_count": 1,
   "metadata": {
    "ExecuteTime": {
     "end_time": "2021-06-18T06:09:22.449882Z",
     "start_time": "2021-06-18T06:09:21.441240Z"
    }
   },
   "outputs": [],
   "source": [
    "from bs4 import BeautifulSoup\n",
    "import pandas as pd\n",
    "import numpy as np\n",
    "import wget\n",
    "import glob\n",
    "import os\n",
    "from twython import Twython\n",
    "from credentials import * \n",
    "import requests\n",
    "import json"
   ]
  },
  {
   "cell_type": "markdown",
   "metadata": {},
   "source": [
    "# Downloading data and scraping HTML websites \n",
    "Downloading HTML webpages with top 100 songs by year from www.billboard.com\n",
    "- url - https://www.billboard.com/charts/year-end/hot-100-songs"
   ]
  },
  {
   "cell_type": "markdown",
   "metadata": {},
   "source": [
    "## Downloading data"
   ]
  },
  {
   "cell_type": "markdown",
   "metadata": {},
   "source": [
    "Here download data"
   ]
  },
  {
   "cell_type": "markdown",
   "metadata": {},
   "source": [
    "## Scraping\n",
    "- Scrape data from downloaded webpages and transform it into a `dataframe`"
   ]
  },
  {
   "cell_type": "code",
   "execution_count": 2,
   "metadata": {
    "ExecuteTime": {
     "end_time": "2021-06-18T06:09:22.459451Z",
     "start_time": "2021-06-18T06:09:22.452505Z"
    }
   },
   "outputs": [],
   "source": [
    "def get_webpage_data(start_year, end_year):\n",
    "    \n",
    "    df_full = pd.DataFrame()\n",
    "    \n",
    "    for i in range(start_year,end_year+1):\n",
    "        year = i\n",
    "    \n",
    "        year = str(year)\n",
    "\n",
    "        web_page = BeautifulSoup(open('../Top-songs-2006-2020/HTMLs/Top_100_'+year+'.html'), 'html.parser')\n",
    "\n",
    "        all_titles = web_page.select('.ye-chart-item__title')\n",
    "        all_artist = web_page.select('.ye-chart-item__artist')\n",
    "        all_ranks = web_page.select('.ye-chart-item__rank')\n",
    "\n",
    "        ranks_list = []\n",
    "        for rank in all_ranks:\n",
    "            ranks_list.append(rank.get_text().replace('\\n', ''))\n",
    "\n",
    "        titles_list = []\n",
    "        for title in all_titles:\n",
    "            titles_list.append(title.get_text().replace('\\n', ''))\n",
    "\n",
    "        artist_list = []\n",
    "        for artist in all_artist:\n",
    "            artist_list.append(artist.get_text().replace('\\n', ''))\n",
    "\n",
    "        year_list = []\n",
    "        for year in web_page.select('.ye-chart-item__primary-row'):\n",
    "            year_list.append(year['data-date'])\n",
    "\n",
    "        df = pd.DataFrame(data = [ranks_list, titles_list, artist_list, year_list]).T\n",
    "        df.columns = ['Rank', 'Title', 'Artist', 'Year']\n",
    "\n",
    "        df_full = df_full.append(df)\n",
    "        \n",
    "    return df_full"
   ]
  },
  {
   "cell_type": "code",
   "execution_count": 3,
   "metadata": {
    "ExecuteTime": {
     "end_time": "2021-06-18T06:09:26.992211Z",
     "start_time": "2021-06-18T06:09:22.462523Z"
    }
   },
   "outputs": [
    {
     "data": {
      "text/html": [
       "<div>\n",
       "<style scoped>\n",
       "    .dataframe tbody tr th:only-of-type {\n",
       "        vertical-align: middle;\n",
       "    }\n",
       "\n",
       "    .dataframe tbody tr th {\n",
       "        vertical-align: top;\n",
       "    }\n",
       "\n",
       "    .dataframe thead th {\n",
       "        text-align: right;\n",
       "    }\n",
       "</style>\n",
       "<table border=\"1\" class=\"dataframe\">\n",
       "  <thead>\n",
       "    <tr style=\"text-align: right;\">\n",
       "      <th></th>\n",
       "      <th>Rank</th>\n",
       "      <th>Title</th>\n",
       "      <th>Artist</th>\n",
       "      <th>Year</th>\n",
       "    </tr>\n",
       "  </thead>\n",
       "  <tbody>\n",
       "    <tr>\n",
       "      <th>0</th>\n",
       "      <td>1</td>\n",
       "      <td>Bad Day</td>\n",
       "      <td>Daniel Powter</td>\n",
       "      <td>2006</td>\n",
       "    </tr>\n",
       "    <tr>\n",
       "      <th>1</th>\n",
       "      <td>2</td>\n",
       "      <td>Temperature</td>\n",
       "      <td>Sean Paul</td>\n",
       "      <td>2006</td>\n",
       "    </tr>\n",
       "    <tr>\n",
       "      <th>2</th>\n",
       "      <td>3</td>\n",
       "      <td>Promiscuous</td>\n",
       "      <td>Nelly Furtado Featuring Timbaland</td>\n",
       "      <td>2006</td>\n",
       "    </tr>\n",
       "    <tr>\n",
       "      <th>3</th>\n",
       "      <td>4</td>\n",
       "      <td>You're Beautiful</td>\n",
       "      <td>James Blunt</td>\n",
       "      <td>2006</td>\n",
       "    </tr>\n",
       "    <tr>\n",
       "      <th>4</th>\n",
       "      <td>5</td>\n",
       "      <td>Hips Don't Lie</td>\n",
       "      <td>Shakira Featuring Wyclef Jean</td>\n",
       "      <td>2006</td>\n",
       "    </tr>\n",
       "    <tr>\n",
       "      <th>...</th>\n",
       "      <td>...</td>\n",
       "      <td>...</td>\n",
       "      <td>...</td>\n",
       "      <td>...</td>\n",
       "    </tr>\n",
       "    <tr>\n",
       "      <th>1493</th>\n",
       "      <td>96</td>\n",
       "      <td>More Than My Hometown</td>\n",
       "      <td>Morgan Wallen</td>\n",
       "      <td>2020</td>\n",
       "    </tr>\n",
       "    <tr>\n",
       "      <th>1494</th>\n",
       "      <td>97</td>\n",
       "      <td>Lovin' On You</td>\n",
       "      <td>Luke Combs</td>\n",
       "      <td>2020</td>\n",
       "    </tr>\n",
       "    <tr>\n",
       "      <th>1495</th>\n",
       "      <td>98</td>\n",
       "      <td>Said Sum</td>\n",
       "      <td>Moneybagg Yo</td>\n",
       "      <td>2020</td>\n",
       "    </tr>\n",
       "    <tr>\n",
       "      <th>1496</th>\n",
       "      <td>99</td>\n",
       "      <td>Slide</td>\n",
       "      <td>H.E.R. Featuring YG</td>\n",
       "      <td>2020</td>\n",
       "    </tr>\n",
       "    <tr>\n",
       "      <th>1497</th>\n",
       "      <td>100</td>\n",
       "      <td>Walk Em Down</td>\n",
       "      <td>NLE Choppa Featuring Roddy Ricch</td>\n",
       "      <td>2020</td>\n",
       "    </tr>\n",
       "  </tbody>\n",
       "</table>\n",
       "<p>1498 rows × 4 columns</p>\n",
       "</div>"
      ],
      "text/plain": [
       "     Rank                  Title                             Artist  Year\n",
       "0       1                Bad Day                      Daniel Powter  2006\n",
       "1       2            Temperature                          Sean Paul  2006\n",
       "2       3            Promiscuous  Nelly Furtado Featuring Timbaland  2006\n",
       "3       4       You're Beautiful                        James Blunt  2006\n",
       "4       5         Hips Don't Lie      Shakira Featuring Wyclef Jean  2006\n",
       "...   ...                    ...                                ...   ...\n",
       "1493   96  More Than My Hometown                      Morgan Wallen  2020\n",
       "1494   97          Lovin' On You                         Luke Combs  2020\n",
       "1495   98               Said Sum                       Moneybagg Yo  2020\n",
       "1496   99                  Slide                H.E.R. Featuring YG  2020\n",
       "1497  100           Walk Em Down   NLE Choppa Featuring Roddy Ricch  2020\n",
       "\n",
       "[1498 rows x 4 columns]"
      ]
     },
     "execution_count": 3,
     "metadata": {},
     "output_type": "execute_result"
    }
   ],
   "source": [
    "full_df = get_webpage_data(2006,2020)\n",
    "full_df.reset_index(drop = True, inplace = True)\n",
    "full_df"
   ]
  },
  {
   "cell_type": "markdown",
   "metadata": {},
   "source": [
    "# Spotify API"
   ]
  },
  {
   "cell_type": "markdown",
   "metadata": {},
   "source": [
    "## Set up API"
   ]
  },
  {
   "cell_type": "code",
   "execution_count": 4,
   "metadata": {
    "ExecuteTime": {
     "end_time": "2021-06-18T06:09:27.062719Z",
     "start_time": "2021-06-18T06:09:26.995228Z"
    }
   },
   "outputs": [],
   "source": [
    "%run spotify_api_secret-Copy1.ipynb"
   ]
  },
  {
   "cell_type": "code",
   "execution_count": 258,
   "metadata": {
    "ExecuteTime": {
     "end_time": "2021-06-18T12:09:42.958979Z",
     "start_time": "2021-06-18T12:09:42.849098Z"
    }
   },
   "outputs": [],
   "source": [
    "auth_url = 'https://accounts.spotify.com/api/token'\n",
    "\n",
    "auth_response = requests.post(auth_url, {\n",
    "    'grant_type':'client_credentials',\n",
    "    'client_id': client_id,\n",
    "    'client_secret': client_secret,\n",
    "})\n",
    "\n",
    "auth_response_data = auth_response.json()\n",
    "access_token = auth_response_data['access_token']\n",
    "headers = {'Authorization': 'Bearer {token}'.format(token = access_token)}"
   ]
  },
  {
   "cell_type": "code",
   "execution_count": null,
   "metadata": {},
   "outputs": [],
   "source": []
  },
  {
   "cell_type": "markdown",
   "metadata": {},
   "source": [
    "## Extracitng data from Spotify API"
   ]
  },
  {
   "cell_type": "markdown",
   "metadata": {},
   "source": [
    "### Extracting track's ids, etc."
   ]
  },
  {
   "cell_type": "code",
   "execution_count": 46,
   "metadata": {
    "ExecuteTime": {
     "end_time": "2021-06-18T06:22:01.299304Z",
     "start_time": "2021-06-18T06:22:01.291531Z"
    }
   },
   "outputs": [
    {
     "data": {
      "text/html": [
       "<div>\n",
       "<style scoped>\n",
       "    .dataframe tbody tr th:only-of-type {\n",
       "        vertical-align: middle;\n",
       "    }\n",
       "\n",
       "    .dataframe tbody tr th {\n",
       "        vertical-align: top;\n",
       "    }\n",
       "\n",
       "    .dataframe thead th {\n",
       "        text-align: right;\n",
       "    }\n",
       "</style>\n",
       "<table border=\"1\" class=\"dataframe\">\n",
       "  <thead>\n",
       "    <tr style=\"text-align: right;\">\n",
       "      <th></th>\n",
       "      <th>Rank</th>\n",
       "      <th>Title</th>\n",
       "      <th>Artist</th>\n",
       "      <th>Year</th>\n",
       "    </tr>\n",
       "  </thead>\n",
       "  <tbody>\n",
       "    <tr>\n",
       "      <th>0</th>\n",
       "      <td>1</td>\n",
       "      <td>Bad Day</td>\n",
       "      <td>Daniel Powter</td>\n",
       "      <td>2006</td>\n",
       "    </tr>\n",
       "  </tbody>\n",
       "</table>\n",
       "</div>"
      ],
      "text/plain": [
       "  Rank    Title         Artist  Year\n",
       "0    1  Bad Day  Daniel Powter  2006"
      ]
     },
     "execution_count": 46,
     "metadata": {},
     "output_type": "execute_result"
    }
   ],
   "source": [
    "full_df.head(1)"
   ]
  },
  {
   "cell_type": "code",
   "execution_count": 62,
   "metadata": {
    "ExecuteTime": {
     "end_time": "2021-06-18T06:46:45.007042Z",
     "start_time": "2021-06-18T06:43:15.952053Z"
    }
   },
   "outputs": [],
   "source": [
    "track_names_spot = []\n",
    "track_ids_spot = []\n",
    "track_duration_spot = []\n",
    "track_explicit_spot = []\n",
    "track_popularity_spot = []\n",
    "artist_name_spot = []\n",
    "\n",
    "for track_name in full_df.Title:\n",
    "    \n",
    "    url = 'https://api.spotify.com/v1/search'\n",
    "\n",
    "    track = requests.get(url, headers = headers, params = {'q':track_name, 'type':'track'}).json()\n",
    "    \n",
    "    track_names_spot.append(track['tracks']['items'][0]['name'])\n",
    "    track_ids_spot.append(track['tracks']['items'][0]['id'])\n",
    "    artist_name_spot.append(track['tracks']['items'][0]['album']['artists'][0]['name'])\n",
    "    track_duration_spot.append(track['tracks']['items'][0]['duration_ms'])\n",
    "    track_explicit_spot.append(track['tracks']['items'][0]['explicit'])\n",
    "    track_popularity_spot.append(track['tracks']['items'][0]['popularity'])"
   ]
  },
  {
   "cell_type": "code",
   "execution_count": 77,
   "metadata": {
    "ExecuteTime": {
     "end_time": "2021-06-18T07:07:02.317246Z",
     "start_time": "2021-06-18T07:07:02.197260Z"
    }
   },
   "outputs": [
    {
     "data": {
      "text/html": [
       "<div>\n",
       "<style scoped>\n",
       "    .dataframe tbody tr th:only-of-type {\n",
       "        vertical-align: middle;\n",
       "    }\n",
       "\n",
       "    .dataframe tbody tr th {\n",
       "        vertical-align: top;\n",
       "    }\n",
       "\n",
       "    .dataframe thead th {\n",
       "        text-align: right;\n",
       "    }\n",
       "</style>\n",
       "<table border=\"1\" class=\"dataframe\">\n",
       "  <thead>\n",
       "    <tr style=\"text-align: right;\">\n",
       "      <th></th>\n",
       "      <th>Title_spot</th>\n",
       "      <th>Artist_spot</th>\n",
       "      <th>Track_id</th>\n",
       "      <th>Track_duration_ms</th>\n",
       "      <th>Track_popularity</th>\n",
       "      <th>Track_explicit</th>\n",
       "    </tr>\n",
       "  </thead>\n",
       "  <tbody>\n",
       "    <tr>\n",
       "      <th>0</th>\n",
       "      <td>Bad Day</td>\n",
       "      <td>Daniel Powter</td>\n",
       "      <td>0mUyMawtxj1CJ76kn9gIZK</td>\n",
       "      <td>233640</td>\n",
       "      <td>75</td>\n",
       "      <td>False</td>\n",
       "    </tr>\n",
       "    <tr>\n",
       "      <th>1</th>\n",
       "      <td>Temperature</td>\n",
       "      <td>Sean Paul</td>\n",
       "      <td>0k2GOhqsrxDTAbFFSdNJjT</td>\n",
       "      <td>218573</td>\n",
       "      <td>79</td>\n",
       "      <td>False</td>\n",
       "    </tr>\n",
       "    <tr>\n",
       "      <th>2</th>\n",
       "      <td>Promiscuous</td>\n",
       "      <td>Nelly Furtado</td>\n",
       "      <td>2gam98EZKrF9XuOkU13ApN</td>\n",
       "      <td>242293</td>\n",
       "      <td>82</td>\n",
       "      <td>False</td>\n",
       "    </tr>\n",
       "  </tbody>\n",
       "</table>\n",
       "</div>"
      ],
      "text/plain": [
       "    Title_spot    Artist_spot                Track_id Track_duration_ms  \\\n",
       "0      Bad Day  Daniel Powter  0mUyMawtxj1CJ76kn9gIZK            233640   \n",
       "1  Temperature      Sean Paul  0k2GOhqsrxDTAbFFSdNJjT            218573   \n",
       "2  Promiscuous  Nelly Furtado  2gam98EZKrF9XuOkU13ApN            242293   \n",
       "\n",
       "  Track_popularity Track_explicit  \n",
       "0               75          False  \n",
       "1               79          False  \n",
       "2               82          False  "
      ]
     },
     "execution_count": 77,
     "metadata": {},
     "output_type": "execute_result"
    }
   ],
   "source": [
    "df_spotify = pd.DataFrame(data = [track_names_spot, artist_name_spot, track_ids_spot, \n",
    "                    track_duration_spot, track_popularity_spot, track_explicit_spot]).T\n",
    "df_spotify.columns = ['Title_spot', 'Artist_spot', 'Track_id', 'Track_duration_ms', \n",
    "                      'Track_popularity', 'Track_explicit']\n",
    "df_spotify.head(3)"
   ]
  },
  {
   "cell_type": "markdown",
   "metadata": {},
   "source": [
    "### Merging two DataFrames"
   ]
  },
  {
   "cell_type": "code",
   "execution_count": 110,
   "metadata": {
    "ExecuteTime": {
     "end_time": "2021-06-18T08:29:57.017853Z",
     "start_time": "2021-06-18T08:29:57.008377Z"
    }
   },
   "outputs": [
    {
     "data": {
      "text/html": [
       "<div>\n",
       "<style scoped>\n",
       "    .dataframe tbody tr th:only-of-type {\n",
       "        vertical-align: middle;\n",
       "    }\n",
       "\n",
       "    .dataframe tbody tr th {\n",
       "        vertical-align: top;\n",
       "    }\n",
       "\n",
       "    .dataframe thead th {\n",
       "        text-align: right;\n",
       "    }\n",
       "</style>\n",
       "<table border=\"1\" class=\"dataframe\">\n",
       "  <thead>\n",
       "    <tr style=\"text-align: right;\">\n",
       "      <th></th>\n",
       "      <th>Title_spot</th>\n",
       "      <th>Artist_spot</th>\n",
       "      <th>Track_id</th>\n",
       "      <th>Track_duration_ms</th>\n",
       "      <th>Track_popularity</th>\n",
       "      <th>Track_explicit</th>\n",
       "    </tr>\n",
       "  </thead>\n",
       "  <tbody>\n",
       "    <tr>\n",
       "      <th>0</th>\n",
       "      <td>Bad Day</td>\n",
       "      <td>Daniel Powter</td>\n",
       "      <td>0mUyMawtxj1CJ76kn9gIZK</td>\n",
       "      <td>233640</td>\n",
       "      <td>75</td>\n",
       "      <td>False</td>\n",
       "    </tr>\n",
       "    <tr>\n",
       "      <th>1</th>\n",
       "      <td>Temperature</td>\n",
       "      <td>Sean Paul</td>\n",
       "      <td>0k2GOhqsrxDTAbFFSdNJjT</td>\n",
       "      <td>218573</td>\n",
       "      <td>79</td>\n",
       "      <td>False</td>\n",
       "    </tr>\n",
       "    <tr>\n",
       "      <th>2</th>\n",
       "      <td>Promiscuous</td>\n",
       "      <td>Nelly Furtado</td>\n",
       "      <td>2gam98EZKrF9XuOkU13ApN</td>\n",
       "      <td>242293</td>\n",
       "      <td>82</td>\n",
       "      <td>False</td>\n",
       "    </tr>\n",
       "  </tbody>\n",
       "</table>\n",
       "</div>"
      ],
      "text/plain": [
       "    Title_spot    Artist_spot                Track_id Track_duration_ms  \\\n",
       "0      Bad Day  Daniel Powter  0mUyMawtxj1CJ76kn9gIZK            233640   \n",
       "1  Temperature      Sean Paul  0k2GOhqsrxDTAbFFSdNJjT            218573   \n",
       "2  Promiscuous  Nelly Furtado  2gam98EZKrF9XuOkU13ApN            242293   \n",
       "\n",
       "  Track_popularity Track_explicit  \n",
       "0               75          False  \n",
       "1               79          False  \n",
       "2               82          False  "
      ]
     },
     "execution_count": 110,
     "metadata": {},
     "output_type": "execute_result"
    }
   ],
   "source": [
    "df_spotify.head(3)"
   ]
  },
  {
   "cell_type": "code",
   "execution_count": 71,
   "metadata": {
    "ExecuteTime": {
     "end_time": "2021-06-18T07:04:41.752927Z",
     "start_time": "2021-06-18T07:04:41.744932Z"
    }
   },
   "outputs": [
    {
     "data": {
      "text/html": [
       "<div>\n",
       "<style scoped>\n",
       "    .dataframe tbody tr th:only-of-type {\n",
       "        vertical-align: middle;\n",
       "    }\n",
       "\n",
       "    .dataframe tbody tr th {\n",
       "        vertical-align: top;\n",
       "    }\n",
       "\n",
       "    .dataframe thead th {\n",
       "        text-align: right;\n",
       "    }\n",
       "</style>\n",
       "<table border=\"1\" class=\"dataframe\">\n",
       "  <thead>\n",
       "    <tr style=\"text-align: right;\">\n",
       "      <th></th>\n",
       "      <th>Rank</th>\n",
       "      <th>Title</th>\n",
       "      <th>Artist</th>\n",
       "      <th>Year</th>\n",
       "    </tr>\n",
       "  </thead>\n",
       "  <tbody>\n",
       "    <tr>\n",
       "      <th>0</th>\n",
       "      <td>1</td>\n",
       "      <td>Bad Day</td>\n",
       "      <td>Daniel Powter</td>\n",
       "      <td>2006</td>\n",
       "    </tr>\n",
       "    <tr>\n",
       "      <th>1</th>\n",
       "      <td>2</td>\n",
       "      <td>Temperature</td>\n",
       "      <td>Sean Paul</td>\n",
       "      <td>2006</td>\n",
       "    </tr>\n",
       "    <tr>\n",
       "      <th>2</th>\n",
       "      <td>3</td>\n",
       "      <td>Promiscuous</td>\n",
       "      <td>Nelly Furtado Featuring Timbaland</td>\n",
       "      <td>2006</td>\n",
       "    </tr>\n",
       "  </tbody>\n",
       "</table>\n",
       "</div>"
      ],
      "text/plain": [
       "  Rank        Title                             Artist  Year\n",
       "0    1      Bad Day                      Daniel Powter  2006\n",
       "1    2  Temperature                          Sean Paul  2006\n",
       "2    3  Promiscuous  Nelly Furtado Featuring Timbaland  2006"
      ]
     },
     "execution_count": 71,
     "metadata": {},
     "output_type": "execute_result"
    }
   ],
   "source": [
    "full_df.head(3)"
   ]
  },
  {
   "cell_type": "code",
   "execution_count": 114,
   "metadata": {
    "ExecuteTime": {
     "end_time": "2021-06-18T08:30:55.743025Z",
     "start_time": "2021-06-18T08:30:55.724815Z"
    }
   },
   "outputs": [
    {
     "data": {
      "text/html": [
       "<div>\n",
       "<style scoped>\n",
       "    .dataframe tbody tr th:only-of-type {\n",
       "        vertical-align: middle;\n",
       "    }\n",
       "\n",
       "    .dataframe tbody tr th {\n",
       "        vertical-align: top;\n",
       "    }\n",
       "\n",
       "    .dataframe thead th {\n",
       "        text-align: right;\n",
       "    }\n",
       "</style>\n",
       "<table border=\"1\" class=\"dataframe\">\n",
       "  <thead>\n",
       "    <tr style=\"text-align: right;\">\n",
       "      <th></th>\n",
       "      <th>Rank</th>\n",
       "      <th>Title</th>\n",
       "      <th>Artist</th>\n",
       "      <th>Year</th>\n",
       "      <th>Title_spot</th>\n",
       "      <th>Artist_spot</th>\n",
       "      <th>Track_id</th>\n",
       "      <th>Track_duration_ms</th>\n",
       "      <th>Track_popularity</th>\n",
       "      <th>Track_explicit</th>\n",
       "    </tr>\n",
       "  </thead>\n",
       "  <tbody>\n",
       "    <tr>\n",
       "      <th>0</th>\n",
       "      <td>1</td>\n",
       "      <td>Bad Day</td>\n",
       "      <td>Daniel Powter</td>\n",
       "      <td>2006</td>\n",
       "      <td>Bad Day</td>\n",
       "      <td>Daniel Powter</td>\n",
       "      <td>0mUyMawtxj1CJ76kn9gIZK</td>\n",
       "      <td>233640</td>\n",
       "      <td>75</td>\n",
       "      <td>False</td>\n",
       "    </tr>\n",
       "    <tr>\n",
       "      <th>1</th>\n",
       "      <td>2</td>\n",
       "      <td>Temperature</td>\n",
       "      <td>Sean Paul</td>\n",
       "      <td>2006</td>\n",
       "      <td>Temperature</td>\n",
       "      <td>Sean Paul</td>\n",
       "      <td>0k2GOhqsrxDTAbFFSdNJjT</td>\n",
       "      <td>218573</td>\n",
       "      <td>79</td>\n",
       "      <td>False</td>\n",
       "    </tr>\n",
       "    <tr>\n",
       "      <th>2</th>\n",
       "      <td>3</td>\n",
       "      <td>Promiscuous</td>\n",
       "      <td>Nelly Furtado Featuring Timbaland</td>\n",
       "      <td>2006</td>\n",
       "      <td>Promiscuous</td>\n",
       "      <td>Nelly Furtado</td>\n",
       "      <td>2gam98EZKrF9XuOkU13ApN</td>\n",
       "      <td>242293</td>\n",
       "      <td>82</td>\n",
       "      <td>False</td>\n",
       "    </tr>\n",
       "    <tr>\n",
       "      <th>3</th>\n",
       "      <td>4</td>\n",
       "      <td>You're Beautiful</td>\n",
       "      <td>James Blunt</td>\n",
       "      <td>2006</td>\n",
       "      <td>You're Beautiful</td>\n",
       "      <td>James Blunt</td>\n",
       "      <td>0vg4WnUWvze6pBOJDTq99k</td>\n",
       "      <td>209493</td>\n",
       "      <td>77</td>\n",
       "      <td>True</td>\n",
       "    </tr>\n",
       "    <tr>\n",
       "      <th>4</th>\n",
       "      <td>5</td>\n",
       "      <td>Hips Don't Lie</td>\n",
       "      <td>Shakira Featuring Wyclef Jean</td>\n",
       "      <td>2006</td>\n",
       "      <td>Hips Don't Lie (feat. Wyclef Jean)</td>\n",
       "      <td>Shakira</td>\n",
       "      <td>3ZFTkvIE7kyPt6Nu3PEa7V</td>\n",
       "      <td>218093</td>\n",
       "      <td>84</td>\n",
       "      <td>False</td>\n",
       "    </tr>\n",
       "    <tr>\n",
       "      <th>...</th>\n",
       "      <td>...</td>\n",
       "      <td>...</td>\n",
       "      <td>...</td>\n",
       "      <td>...</td>\n",
       "      <td>...</td>\n",
       "      <td>...</td>\n",
       "      <td>...</td>\n",
       "      <td>...</td>\n",
       "      <td>...</td>\n",
       "      <td>...</td>\n",
       "    </tr>\n",
       "    <tr>\n",
       "      <th>1493</th>\n",
       "      <td>96</td>\n",
       "      <td>More Than My Hometown</td>\n",
       "      <td>Morgan Wallen</td>\n",
       "      <td>2020</td>\n",
       "      <td>More Than My Hometown</td>\n",
       "      <td>Morgan Wallen</td>\n",
       "      <td>5OELUCYgOHKFAvCERnAvfS</td>\n",
       "      <td>216573</td>\n",
       "      <td>76</td>\n",
       "      <td>False</td>\n",
       "    </tr>\n",
       "    <tr>\n",
       "      <th>1494</th>\n",
       "      <td>97</td>\n",
       "      <td>Lovin' On You</td>\n",
       "      <td>Luke Combs</td>\n",
       "      <td>2020</td>\n",
       "      <td>Lovin' On You</td>\n",
       "      <td>Luke Combs</td>\n",
       "      <td>0nYvjcSlCgjcwogQAwIwNp</td>\n",
       "      <td>194866</td>\n",
       "      <td>72</td>\n",
       "      <td>False</td>\n",
       "    </tr>\n",
       "    <tr>\n",
       "      <th>1495</th>\n",
       "      <td>98</td>\n",
       "      <td>Said Sum</td>\n",
       "      <td>Moneybagg Yo</td>\n",
       "      <td>2020</td>\n",
       "      <td>Said Sum</td>\n",
       "      <td>Moneybagg Yo</td>\n",
       "      <td>3sKz6Sd72K0ofPWcJPPk6H</td>\n",
       "      <td>155168</td>\n",
       "      <td>72</td>\n",
       "      <td>True</td>\n",
       "    </tr>\n",
       "    <tr>\n",
       "      <th>1496</th>\n",
       "      <td>99</td>\n",
       "      <td>Slide</td>\n",
       "      <td>H.E.R. Featuring YG</td>\n",
       "      <td>2020</td>\n",
       "      <td>Slide</td>\n",
       "      <td>H.E.R.</td>\n",
       "      <td>2rTnVB1bvwxHtaIl4uVu7f</td>\n",
       "      <td>238321</td>\n",
       "      <td>73</td>\n",
       "      <td>True</td>\n",
       "    </tr>\n",
       "    <tr>\n",
       "      <th>1497</th>\n",
       "      <td>100</td>\n",
       "      <td>Walk Em Down</td>\n",
       "      <td>NLE Choppa Featuring Roddy Ricch</td>\n",
       "      <td>2020</td>\n",
       "      <td>Walk Em Down (feat. Roddy Ricch)</td>\n",
       "      <td>Roddy Ricch</td>\n",
       "      <td>4cSSL3YafYjM3yjgFO1vJg</td>\n",
       "      <td>173288</td>\n",
       "      <td>76</td>\n",
       "      <td>True</td>\n",
       "    </tr>\n",
       "  </tbody>\n",
       "</table>\n",
       "<p>1498 rows × 10 columns</p>\n",
       "</div>"
      ],
      "text/plain": [
       "     Rank                  Title                             Artist  Year  \\\n",
       "0       1                Bad Day                      Daniel Powter  2006   \n",
       "1       2            Temperature                          Sean Paul  2006   \n",
       "2       3            Promiscuous  Nelly Furtado Featuring Timbaland  2006   \n",
       "3       4       You're Beautiful                        James Blunt  2006   \n",
       "4       5         Hips Don't Lie      Shakira Featuring Wyclef Jean  2006   \n",
       "...   ...                    ...                                ...   ...   \n",
       "1493   96  More Than My Hometown                      Morgan Wallen  2020   \n",
       "1494   97          Lovin' On You                         Luke Combs  2020   \n",
       "1495   98               Said Sum                       Moneybagg Yo  2020   \n",
       "1496   99                  Slide                H.E.R. Featuring YG  2020   \n",
       "1497  100           Walk Em Down   NLE Choppa Featuring Roddy Ricch  2020   \n",
       "\n",
       "                              Title_spot    Artist_spot  \\\n",
       "0                                Bad Day  Daniel Powter   \n",
       "1                            Temperature      Sean Paul   \n",
       "2                            Promiscuous  Nelly Furtado   \n",
       "3                       You're Beautiful    James Blunt   \n",
       "4     Hips Don't Lie (feat. Wyclef Jean)        Shakira   \n",
       "...                                  ...            ...   \n",
       "1493               More Than My Hometown  Morgan Wallen   \n",
       "1494                       Lovin' On You     Luke Combs   \n",
       "1495                            Said Sum   Moneybagg Yo   \n",
       "1496                               Slide         H.E.R.   \n",
       "1497    Walk Em Down (feat. Roddy Ricch)    Roddy Ricch   \n",
       "\n",
       "                    Track_id Track_duration_ms Track_popularity Track_explicit  \n",
       "0     0mUyMawtxj1CJ76kn9gIZK            233640               75          False  \n",
       "1     0k2GOhqsrxDTAbFFSdNJjT            218573               79          False  \n",
       "2     2gam98EZKrF9XuOkU13ApN            242293               82          False  \n",
       "3     0vg4WnUWvze6pBOJDTq99k            209493               77           True  \n",
       "4     3ZFTkvIE7kyPt6Nu3PEa7V            218093               84          False  \n",
       "...                      ...               ...              ...            ...  \n",
       "1493  5OELUCYgOHKFAvCERnAvfS            216573               76          False  \n",
       "1494  0nYvjcSlCgjcwogQAwIwNp            194866               72          False  \n",
       "1495  3sKz6Sd72K0ofPWcJPPk6H            155168               72           True  \n",
       "1496  2rTnVB1bvwxHtaIl4uVu7f            238321               73           True  \n",
       "1497  4cSSL3YafYjM3yjgFO1vJg            173288               76           True  \n",
       "\n",
       "[1498 rows x 10 columns]"
      ]
     },
     "execution_count": 114,
     "metadata": {},
     "output_type": "execute_result"
    }
   ],
   "source": [
    "df = full_df.merge(right = df_spotify, left_index = True, right_index = True)\n",
    "df"
   ]
  },
  {
   "cell_type": "markdown",
   "metadata": {},
   "source": [
    "### Extracting Audio Features of the tracks"
   ]
  },
  {
   "cell_type": "code",
   "execution_count": 261,
   "metadata": {
    "ExecuteTime": {
     "end_time": "2021-06-18T12:12:57.797511Z",
     "start_time": "2021-06-18T12:10:28.687431Z"
    }
   },
   "outputs": [],
   "source": [
    "requests_list = []\n",
    "\n",
    "for track_id in df.Track_id:\n",
    "    \n",
    "    url = 'https://api.spotify.com/v1/audio-features/'+track_id\n",
    "    \n",
    "    requests_list.append(requests.get(url, headers = headers).json())"
   ]
  },
  {
   "cell_type": "code",
   "execution_count": 361,
   "metadata": {
    "ExecuteTime": {
     "end_time": "2021-06-18T13:31:19.443431Z",
     "start_time": "2021-06-18T13:31:15.711950Z"
    }
   },
   "outputs": [],
   "source": [
    "df_audio_feautures = pd.DataFrame()\n",
    "\n",
    "i = 0\n",
    "\n",
    "for i in range(len(requests_list)):\n",
    "    \n",
    "    temp_df = pd.DataFrame.from_dict(requests_list[i], orient = 'Index').T\n",
    "    \n",
    "    df_audio_feautures = df_audio_feautures.append(temp_df)\n",
    "    \n",
    "    i += 1"
   ]
  },
  {
   "cell_type": "code",
   "execution_count": 362,
   "metadata": {
    "ExecuteTime": {
     "end_time": "2021-06-18T13:31:21.159054Z",
     "start_time": "2021-06-18T13:31:21.136059Z"
    }
   },
   "outputs": [
    {
     "data": {
      "text/html": [
       "<div>\n",
       "<style scoped>\n",
       "    .dataframe tbody tr th:only-of-type {\n",
       "        vertical-align: middle;\n",
       "    }\n",
       "\n",
       "    .dataframe tbody tr th {\n",
       "        vertical-align: top;\n",
       "    }\n",
       "\n",
       "    .dataframe thead th {\n",
       "        text-align: right;\n",
       "    }\n",
       "</style>\n",
       "<table border=\"1\" class=\"dataframe\">\n",
       "  <thead>\n",
       "    <tr style=\"text-align: right;\">\n",
       "      <th></th>\n",
       "      <th>danceability</th>\n",
       "      <th>energy</th>\n",
       "      <th>key</th>\n",
       "      <th>loudness</th>\n",
       "      <th>mode</th>\n",
       "      <th>speechiness</th>\n",
       "      <th>acousticness</th>\n",
       "      <th>instrumentalness</th>\n",
       "      <th>liveness</th>\n",
       "      <th>valence</th>\n",
       "      <th>tempo</th>\n",
       "      <th>type</th>\n",
       "      <th>id</th>\n",
       "      <th>uri</th>\n",
       "      <th>track_href</th>\n",
       "      <th>analysis_url</th>\n",
       "      <th>duration_ms</th>\n",
       "      <th>time_signature</th>\n",
       "      <th>error</th>\n",
       "    </tr>\n",
       "  </thead>\n",
       "  <tbody>\n",
       "    <tr>\n",
       "      <th>0</th>\n",
       "      <td>0.599</td>\n",
       "      <td>0.785</td>\n",
       "      <td>3</td>\n",
       "      <td>-4.013</td>\n",
       "      <td>1</td>\n",
       "      <td>0.0309</td>\n",
       "      <td>0.448</td>\n",
       "      <td>0.00336</td>\n",
       "      <td>0.151</td>\n",
       "      <td>0.52</td>\n",
       "      <td>140.046</td>\n",
       "      <td>audio_features</td>\n",
       "      <td>0mUyMawtxj1CJ76kn9gIZK</td>\n",
       "      <td>spotify:track:0mUyMawtxj1CJ76kn9gIZK</td>\n",
       "      <td>https://api.spotify.com/v1/tracks/0mUyMawtxj1C...</td>\n",
       "      <td>https://api.spotify.com/v1/audio-analysis/0mUy...</td>\n",
       "      <td>233640</td>\n",
       "      <td>4</td>\n",
       "      <td>NaN</td>\n",
       "    </tr>\n",
       "    <tr>\n",
       "      <th>1</th>\n",
       "      <td>0.951</td>\n",
       "      <td>0.6</td>\n",
       "      <td>0</td>\n",
       "      <td>-4.675</td>\n",
       "      <td>0</td>\n",
       "      <td>0.0685</td>\n",
       "      <td>0.106</td>\n",
       "      <td>0</td>\n",
       "      <td>0.0712</td>\n",
       "      <td>0.822</td>\n",
       "      <td>125.04</td>\n",
       "      <td>audio_features</td>\n",
       "      <td>0k2GOhqsrxDTAbFFSdNJjT</td>\n",
       "      <td>spotify:track:0k2GOhqsrxDTAbFFSdNJjT</td>\n",
       "      <td>https://api.spotify.com/v1/tracks/0k2GOhqsrxDT...</td>\n",
       "      <td>https://api.spotify.com/v1/audio-analysis/0k2G...</td>\n",
       "      <td>218573</td>\n",
       "      <td>4</td>\n",
       "      <td>NaN</td>\n",
       "    </tr>\n",
       "    <tr>\n",
       "      <th>2</th>\n",
       "      <td>0.808</td>\n",
       "      <td>0.97</td>\n",
       "      <td>10</td>\n",
       "      <td>-6.098</td>\n",
       "      <td>0</td>\n",
       "      <td>0.0506</td>\n",
       "      <td>0.0569</td>\n",
       "      <td>0.000061</td>\n",
       "      <td>0.154</td>\n",
       "      <td>0.868</td>\n",
       "      <td>114.328</td>\n",
       "      <td>audio_features</td>\n",
       "      <td>2gam98EZKrF9XuOkU13ApN</td>\n",
       "      <td>spotify:track:2gam98EZKrF9XuOkU13ApN</td>\n",
       "      <td>https://api.spotify.com/v1/tracks/2gam98EZKrF9...</td>\n",
       "      <td>https://api.spotify.com/v1/audio-analysis/2gam...</td>\n",
       "      <td>242293</td>\n",
       "      <td>4</td>\n",
       "      <td>NaN</td>\n",
       "    </tr>\n",
       "    <tr>\n",
       "      <th>3</th>\n",
       "      <td>0.675</td>\n",
       "      <td>0.479</td>\n",
       "      <td>0</td>\n",
       "      <td>-9.87</td>\n",
       "      <td>0</td>\n",
       "      <td>0.0278</td>\n",
       "      <td>0.633</td>\n",
       "      <td>0.000018</td>\n",
       "      <td>0.088</td>\n",
       "      <td>0.454</td>\n",
       "      <td>81.998</td>\n",
       "      <td>audio_features</td>\n",
       "      <td>0vg4WnUWvze6pBOJDTq99k</td>\n",
       "      <td>spotify:track:0vg4WnUWvze6pBOJDTq99k</td>\n",
       "      <td>https://api.spotify.com/v1/tracks/0vg4WnUWvze6...</td>\n",
       "      <td>https://api.spotify.com/v1/audio-analysis/0vg4...</td>\n",
       "      <td>209493</td>\n",
       "      <td>4</td>\n",
       "      <td>NaN</td>\n",
       "    </tr>\n",
       "    <tr>\n",
       "      <th>4</th>\n",
       "      <td>0.778</td>\n",
       "      <td>0.824</td>\n",
       "      <td>10</td>\n",
       "      <td>-5.892</td>\n",
       "      <td>0</td>\n",
       "      <td>0.0707</td>\n",
       "      <td>0.284</td>\n",
       "      <td>0</td>\n",
       "      <td>0.405</td>\n",
       "      <td>0.758</td>\n",
       "      <td>100.024</td>\n",
       "      <td>audio_features</td>\n",
       "      <td>3ZFTkvIE7kyPt6Nu3PEa7V</td>\n",
       "      <td>spotify:track:3ZFTkvIE7kyPt6Nu3PEa7V</td>\n",
       "      <td>https://api.spotify.com/v1/tracks/3ZFTkvIE7kyP...</td>\n",
       "      <td>https://api.spotify.com/v1/audio-analysis/3ZFT...</td>\n",
       "      <td>218093</td>\n",
       "      <td>4</td>\n",
       "      <td>NaN</td>\n",
       "    </tr>\n",
       "    <tr>\n",
       "      <th>...</th>\n",
       "      <td>...</td>\n",
       "      <td>...</td>\n",
       "      <td>...</td>\n",
       "      <td>...</td>\n",
       "      <td>...</td>\n",
       "      <td>...</td>\n",
       "      <td>...</td>\n",
       "      <td>...</td>\n",
       "      <td>...</td>\n",
       "      <td>...</td>\n",
       "      <td>...</td>\n",
       "      <td>...</td>\n",
       "      <td>...</td>\n",
       "      <td>...</td>\n",
       "      <td>...</td>\n",
       "      <td>...</td>\n",
       "      <td>...</td>\n",
       "      <td>...</td>\n",
       "      <td>...</td>\n",
       "    </tr>\n",
       "    <tr>\n",
       "      <th>1504</th>\n",
       "      <td>0.62</td>\n",
       "      <td>0.869</td>\n",
       "      <td>6</td>\n",
       "      <td>-5.479</td>\n",
       "      <td>1</td>\n",
       "      <td>0.0462</td>\n",
       "      <td>0.615</td>\n",
       "      <td>0</td>\n",
       "      <td>0.131</td>\n",
       "      <td>0.597</td>\n",
       "      <td>126.019</td>\n",
       "      <td>audio_features</td>\n",
       "      <td>5OELUCYgOHKFAvCERnAvfS</td>\n",
       "      <td>spotify:track:5OELUCYgOHKFAvCERnAvfS</td>\n",
       "      <td>https://api.spotify.com/v1/tracks/5OELUCYgOHKF...</td>\n",
       "      <td>https://api.spotify.com/v1/audio-analysis/5OEL...</td>\n",
       "      <td>216573</td>\n",
       "      <td>4</td>\n",
       "      <td>NaN</td>\n",
       "    </tr>\n",
       "    <tr>\n",
       "      <th>1505</th>\n",
       "      <td>0.572</td>\n",
       "      <td>0.949</td>\n",
       "      <td>4</td>\n",
       "      <td>-4.865</td>\n",
       "      <td>1</td>\n",
       "      <td>0.06</td>\n",
       "      <td>0.00165</td>\n",
       "      <td>0.000195</td>\n",
       "      <td>0.163</td>\n",
       "      <td>0.53</td>\n",
       "      <td>118.974</td>\n",
       "      <td>audio_features</td>\n",
       "      <td>0nYvjcSlCgjcwogQAwIwNp</td>\n",
       "      <td>spotify:track:0nYvjcSlCgjcwogQAwIwNp</td>\n",
       "      <td>https://api.spotify.com/v1/tracks/0nYvjcSlCgjc...</td>\n",
       "      <td>https://api.spotify.com/v1/audio-analysis/0nYv...</td>\n",
       "      <td>194867</td>\n",
       "      <td>4</td>\n",
       "      <td>NaN</td>\n",
       "    </tr>\n",
       "    <tr>\n",
       "      <th>1506</th>\n",
       "      <td>0.929</td>\n",
       "      <td>0.667</td>\n",
       "      <td>8</td>\n",
       "      <td>-6.789</td>\n",
       "      <td>0</td>\n",
       "      <td>0.353</td>\n",
       "      <td>0.0185</td>\n",
       "      <td>0</td>\n",
       "      <td>0.1</td>\n",
       "      <td>0.274</td>\n",
       "      <td>126.998</td>\n",
       "      <td>audio_features</td>\n",
       "      <td>3sKz6Sd72K0ofPWcJPPk6H</td>\n",
       "      <td>spotify:track:3sKz6Sd72K0ofPWcJPPk6H</td>\n",
       "      <td>https://api.spotify.com/v1/tracks/3sKz6Sd72K0o...</td>\n",
       "      <td>https://api.spotify.com/v1/audio-analysis/3sKz...</td>\n",
       "      <td>155168</td>\n",
       "      <td>4</td>\n",
       "      <td>NaN</td>\n",
       "    </tr>\n",
       "    <tr>\n",
       "      <th>1507</th>\n",
       "      <td>0.827</td>\n",
       "      <td>0.469</td>\n",
       "      <td>10</td>\n",
       "      <td>-9.141</td>\n",
       "      <td>0</td>\n",
       "      <td>0.341</td>\n",
       "      <td>0.0807</td>\n",
       "      <td>0.000008</td>\n",
       "      <td>0.207</td>\n",
       "      <td>0.196</td>\n",
       "      <td>97.028</td>\n",
       "      <td>audio_features</td>\n",
       "      <td>2rTnVB1bvwxHtaIl4uVu7f</td>\n",
       "      <td>spotify:track:2rTnVB1bvwxHtaIl4uVu7f</td>\n",
       "      <td>https://api.spotify.com/v1/tracks/2rTnVB1bvwxH...</td>\n",
       "      <td>https://api.spotify.com/v1/audio-analysis/2rTn...</td>\n",
       "      <td>238321</td>\n",
       "      <td>4</td>\n",
       "      <td>NaN</td>\n",
       "    </tr>\n",
       "    <tr>\n",
       "      <th>1508</th>\n",
       "      <td>0.867</td>\n",
       "      <td>0.744</td>\n",
       "      <td>2</td>\n",
       "      <td>-5.171</td>\n",
       "      <td>1</td>\n",
       "      <td>0.227</td>\n",
       "      <td>0.268</td>\n",
       "      <td>0</td>\n",
       "      <td>0.0713</td>\n",
       "      <td>0.645</td>\n",
       "      <td>84.005</td>\n",
       "      <td>audio_features</td>\n",
       "      <td>4cSSL3YafYjM3yjgFO1vJg</td>\n",
       "      <td>spotify:track:4cSSL3YafYjM3yjgFO1vJg</td>\n",
       "      <td>https://api.spotify.com/v1/tracks/4cSSL3YafYjM...</td>\n",
       "      <td>https://api.spotify.com/v1/audio-analysis/4cSS...</td>\n",
       "      <td>173288</td>\n",
       "      <td>4</td>\n",
       "      <td>NaN</td>\n",
       "    </tr>\n",
       "  </tbody>\n",
       "</table>\n",
       "<p>1509 rows × 19 columns</p>\n",
       "</div>"
      ],
      "text/plain": [
       "     danceability energy key loudness mode speechiness acousticness  \\\n",
       "0           0.599  0.785   3   -4.013    1      0.0309        0.448   \n",
       "1           0.951    0.6   0   -4.675    0      0.0685        0.106   \n",
       "2           0.808   0.97  10   -6.098    0      0.0506       0.0569   \n",
       "3           0.675  0.479   0    -9.87    0      0.0278        0.633   \n",
       "4           0.778  0.824  10   -5.892    0      0.0707        0.284   \n",
       "...           ...    ...  ..      ...  ...         ...          ...   \n",
       "1504         0.62  0.869   6   -5.479    1      0.0462        0.615   \n",
       "1505        0.572  0.949   4   -4.865    1        0.06      0.00165   \n",
       "1506        0.929  0.667   8   -6.789    0       0.353       0.0185   \n",
       "1507        0.827  0.469  10   -9.141    0       0.341       0.0807   \n",
       "1508        0.867  0.744   2   -5.171    1       0.227        0.268   \n",
       "\n",
       "     instrumentalness liveness valence    tempo            type  \\\n",
       "0             0.00336    0.151    0.52  140.046  audio_features   \n",
       "1                   0   0.0712   0.822   125.04  audio_features   \n",
       "2            0.000061    0.154   0.868  114.328  audio_features   \n",
       "3            0.000018    0.088   0.454   81.998  audio_features   \n",
       "4                   0    0.405   0.758  100.024  audio_features   \n",
       "...               ...      ...     ...      ...             ...   \n",
       "1504                0    0.131   0.597  126.019  audio_features   \n",
       "1505         0.000195    0.163    0.53  118.974  audio_features   \n",
       "1506                0      0.1   0.274  126.998  audio_features   \n",
       "1507         0.000008    0.207   0.196   97.028  audio_features   \n",
       "1508                0   0.0713   0.645   84.005  audio_features   \n",
       "\n",
       "                          id                                   uri  \\\n",
       "0     0mUyMawtxj1CJ76kn9gIZK  spotify:track:0mUyMawtxj1CJ76kn9gIZK   \n",
       "1     0k2GOhqsrxDTAbFFSdNJjT  spotify:track:0k2GOhqsrxDTAbFFSdNJjT   \n",
       "2     2gam98EZKrF9XuOkU13ApN  spotify:track:2gam98EZKrF9XuOkU13ApN   \n",
       "3     0vg4WnUWvze6pBOJDTq99k  spotify:track:0vg4WnUWvze6pBOJDTq99k   \n",
       "4     3ZFTkvIE7kyPt6Nu3PEa7V  spotify:track:3ZFTkvIE7kyPt6Nu3PEa7V   \n",
       "...                      ...                                   ...   \n",
       "1504  5OELUCYgOHKFAvCERnAvfS  spotify:track:5OELUCYgOHKFAvCERnAvfS   \n",
       "1505  0nYvjcSlCgjcwogQAwIwNp  spotify:track:0nYvjcSlCgjcwogQAwIwNp   \n",
       "1506  3sKz6Sd72K0ofPWcJPPk6H  spotify:track:3sKz6Sd72K0ofPWcJPPk6H   \n",
       "1507  2rTnVB1bvwxHtaIl4uVu7f  spotify:track:2rTnVB1bvwxHtaIl4uVu7f   \n",
       "1508  4cSSL3YafYjM3yjgFO1vJg  spotify:track:4cSSL3YafYjM3yjgFO1vJg   \n",
       "\n",
       "                                             track_href  \\\n",
       "0     https://api.spotify.com/v1/tracks/0mUyMawtxj1C...   \n",
       "1     https://api.spotify.com/v1/tracks/0k2GOhqsrxDT...   \n",
       "2     https://api.spotify.com/v1/tracks/2gam98EZKrF9...   \n",
       "3     https://api.spotify.com/v1/tracks/0vg4WnUWvze6...   \n",
       "4     https://api.spotify.com/v1/tracks/3ZFTkvIE7kyP...   \n",
       "...                                                 ...   \n",
       "1504  https://api.spotify.com/v1/tracks/5OELUCYgOHKF...   \n",
       "1505  https://api.spotify.com/v1/tracks/0nYvjcSlCgjc...   \n",
       "1506  https://api.spotify.com/v1/tracks/3sKz6Sd72K0o...   \n",
       "1507  https://api.spotify.com/v1/tracks/2rTnVB1bvwxH...   \n",
       "1508  https://api.spotify.com/v1/tracks/4cSSL3YafYjM...   \n",
       "\n",
       "                                           analysis_url duration_ms  \\\n",
       "0     https://api.spotify.com/v1/audio-analysis/0mUy...      233640   \n",
       "1     https://api.spotify.com/v1/audio-analysis/0k2G...      218573   \n",
       "2     https://api.spotify.com/v1/audio-analysis/2gam...      242293   \n",
       "3     https://api.spotify.com/v1/audio-analysis/0vg4...      209493   \n",
       "4     https://api.spotify.com/v1/audio-analysis/3ZFT...      218093   \n",
       "...                                                 ...         ...   \n",
       "1504  https://api.spotify.com/v1/audio-analysis/5OEL...      216573   \n",
       "1505  https://api.spotify.com/v1/audio-analysis/0nYv...      194867   \n",
       "1506  https://api.spotify.com/v1/audio-analysis/3sKz...      155168   \n",
       "1507  https://api.spotify.com/v1/audio-analysis/2rTn...      238321   \n",
       "1508  https://api.spotify.com/v1/audio-analysis/4cSS...      173288   \n",
       "\n",
       "     time_signature error  \n",
       "0                 4   NaN  \n",
       "1                 4   NaN  \n",
       "2                 4   NaN  \n",
       "3                 4   NaN  \n",
       "4                 4   NaN  \n",
       "...             ...   ...  \n",
       "1504              4   NaN  \n",
       "1505              4   NaN  \n",
       "1506              4   NaN  \n",
       "1507              4   NaN  \n",
       "1508              4   NaN  \n",
       "\n",
       "[1509 rows x 19 columns]"
      ]
     },
     "execution_count": 362,
     "metadata": {},
     "output_type": "execute_result"
    }
   ],
   "source": [
    "df_audio_feautures.reset_index(drop = True, inplace = True)\n",
    "df_audio_feautures"
   ]
  },
  {
   "cell_type": "markdown",
   "metadata": {},
   "source": [
    "### Cleaning Spotify data frame"
   ]
  },
  {
   "cell_type": "code",
   "execution_count": 363,
   "metadata": {
    "ExecuteTime": {
     "end_time": "2021-06-18T13:31:24.739114Z",
     "start_time": "2021-06-18T13:31:24.734904Z"
    }
   },
   "outputs": [
    {
     "data": {
      "text/plain": [
       "1509"
      ]
     },
     "execution_count": 363,
     "metadata": {},
     "output_type": "execute_result"
    }
   ],
   "source": [
    "len(df_audio_feautures)"
   ]
  },
  {
   "cell_type": "code",
   "execution_count": 364,
   "metadata": {
    "ExecuteTime": {
     "end_time": "2021-06-18T13:31:26.932967Z",
     "start_time": "2021-06-18T13:31:26.927785Z"
    }
   },
   "outputs": [
    {
     "data": {
      "text/plain": [
       "array([429, 'API rate limit exceeded', 404, 'analysis not found'],\n",
       "      dtype=object)"
      ]
     },
     "execution_count": 364,
     "metadata": {},
     "output_type": "execute_result"
    }
   ],
   "source": [
    "df_audio_feautures.error.unique()[1:]"
   ]
  },
  {
   "cell_type": "code",
   "execution_count": 367,
   "metadata": {
    "ExecuteTime": {
     "end_time": "2021-06-18T13:32:22.262659Z",
     "start_time": "2021-06-18T13:32:22.258312Z"
    }
   },
   "outputs": [
    {
     "data": {
      "text/plain": [
       "10"
      ]
     },
     "execution_count": 367,
     "metadata": {},
     "output_type": "execute_result"
    }
   ],
   "source": [
    "len(df_audio_feautures[df_audio_feautures.error == 'API rate limit exceeded'])"
   ]
  },
  {
   "cell_type": "code",
   "execution_count": 368,
   "metadata": {
    "ExecuteTime": {
     "end_time": "2021-06-18T13:32:23.034626Z",
     "start_time": "2021-06-18T13:32:23.029953Z"
    }
   },
   "outputs": [
    {
     "data": {
      "text/plain": [
       "1"
      ]
     },
     "execution_count": 368,
     "metadata": {},
     "output_type": "execute_result"
    }
   ],
   "source": [
    "len(df_audio_feautures[df_audio_feautures.error == 'analysis not found'])"
   ]
  },
  {
   "cell_type": "code",
   "execution_count": 369,
   "metadata": {
    "ExecuteTime": {
     "end_time": "2021-06-18T13:32:36.466472Z",
     "start_time": "2021-06-18T13:32:36.461043Z"
    }
   },
   "outputs": [
    {
     "data": {
      "text/plain": [
       "0"
      ]
     },
     "execution_count": 369,
     "metadata": {},
     "output_type": "execute_result"
    }
   ],
   "source": [
    "len(df_audio_feautures[df_audio_feautures.error == '429'])"
   ]
  },
  {
   "cell_type": "code",
   "execution_count": 371,
   "metadata": {
    "ExecuteTime": {
     "end_time": "2021-06-18T13:32:56.642390Z",
     "start_time": "2021-06-18T13:32:56.637714Z"
    }
   },
   "outputs": [
    {
     "data": {
      "text/plain": [
       "0"
      ]
     },
     "execution_count": 371,
     "metadata": {},
     "output_type": "execute_result"
    }
   ],
   "source": [
    "len(df_audio_feautures[df_audio_feautures.error == '404'])"
   ]
  },
  {
   "cell_type": "code",
   "execution_count": 373,
   "metadata": {
    "ExecuteTime": {
     "end_time": "2021-06-18T13:34:05.738498Z",
     "start_time": "2021-06-18T13:34:05.731359Z"
    }
   },
   "outputs": [],
   "source": [
    "df_audio_feautures.drop(df_audio_feautures[df_audio_feautures.error == 'API rate limit exceeded'].index, \n",
    "                    inplace = True)\n",
    "\n",
    "df_audio_feautures.drop(df_audio_feautures[df_audio_feautures.error == 'analysis not found'].index, \n",
    "                    inplace = True)"
   ]
  },
  {
   "cell_type": "code",
   "execution_count": 374,
   "metadata": {
    "ExecuteTime": {
     "end_time": "2021-06-18T13:34:12.237186Z",
     "start_time": "2021-06-18T13:34:12.233773Z"
    }
   },
   "outputs": [
    {
     "data": {
      "text/plain": [
       "1498"
      ]
     },
     "execution_count": 374,
     "metadata": {},
     "output_type": "execute_result"
    }
   ],
   "source": [
    "len(df_audio_feautures)"
   ]
  },
  {
   "cell_type": "markdown",
   "metadata": {},
   "source": [
    "# Merge dataframes to the final dataframe"
   ]
  },
  {
   "cell_type": "code",
   "execution_count": 379,
   "metadata": {
    "ExecuteTime": {
     "end_time": "2021-06-18T13:37:19.469729Z",
     "start_time": "2021-06-18T13:37:19.451735Z"
    }
   },
   "outputs": [
    {
     "data": {
      "text/html": [
       "<div>\n",
       "<style scoped>\n",
       "    .dataframe tbody tr th:only-of-type {\n",
       "        vertical-align: middle;\n",
       "    }\n",
       "\n",
       "    .dataframe tbody tr th {\n",
       "        vertical-align: top;\n",
       "    }\n",
       "\n",
       "    .dataframe thead th {\n",
       "        text-align: right;\n",
       "    }\n",
       "</style>\n",
       "<table border=\"1\" class=\"dataframe\">\n",
       "  <thead>\n",
       "    <tr style=\"text-align: right;\">\n",
       "      <th></th>\n",
       "      <th>danceability</th>\n",
       "      <th>energy</th>\n",
       "      <th>key</th>\n",
       "      <th>loudness</th>\n",
       "      <th>mode</th>\n",
       "      <th>speechiness</th>\n",
       "      <th>acousticness</th>\n",
       "      <th>instrumentalness</th>\n",
       "      <th>liveness</th>\n",
       "      <th>valence</th>\n",
       "      <th>tempo</th>\n",
       "      <th>type</th>\n",
       "      <th>id</th>\n",
       "      <th>uri</th>\n",
       "      <th>track_href</th>\n",
       "      <th>analysis_url</th>\n",
       "      <th>duration_ms</th>\n",
       "      <th>time_signature</th>\n",
       "      <th>error</th>\n",
       "    </tr>\n",
       "  </thead>\n",
       "  <tbody>\n",
       "    <tr>\n",
       "      <th>0</th>\n",
       "      <td>0.599</td>\n",
       "      <td>0.785</td>\n",
       "      <td>3</td>\n",
       "      <td>-4.013</td>\n",
       "      <td>1</td>\n",
       "      <td>0.0309</td>\n",
       "      <td>0.448</td>\n",
       "      <td>0.00336</td>\n",
       "      <td>0.151</td>\n",
       "      <td>0.52</td>\n",
       "      <td>140.046</td>\n",
       "      <td>audio_features</td>\n",
       "      <td>0mUyMawtxj1CJ76kn9gIZK</td>\n",
       "      <td>spotify:track:0mUyMawtxj1CJ76kn9gIZK</td>\n",
       "      <td>https://api.spotify.com/v1/tracks/0mUyMawtxj1C...</td>\n",
       "      <td>https://api.spotify.com/v1/audio-analysis/0mUy...</td>\n",
       "      <td>233640</td>\n",
       "      <td>4</td>\n",
       "      <td>NaN</td>\n",
       "    </tr>\n",
       "    <tr>\n",
       "      <th>1</th>\n",
       "      <td>0.951</td>\n",
       "      <td>0.6</td>\n",
       "      <td>0</td>\n",
       "      <td>-4.675</td>\n",
       "      <td>0</td>\n",
       "      <td>0.0685</td>\n",
       "      <td>0.106</td>\n",
       "      <td>0</td>\n",
       "      <td>0.0712</td>\n",
       "      <td>0.822</td>\n",
       "      <td>125.04</td>\n",
       "      <td>audio_features</td>\n",
       "      <td>0k2GOhqsrxDTAbFFSdNJjT</td>\n",
       "      <td>spotify:track:0k2GOhqsrxDTAbFFSdNJjT</td>\n",
       "      <td>https://api.spotify.com/v1/tracks/0k2GOhqsrxDT...</td>\n",
       "      <td>https://api.spotify.com/v1/audio-analysis/0k2G...</td>\n",
       "      <td>218573</td>\n",
       "      <td>4</td>\n",
       "      <td>NaN</td>\n",
       "    </tr>\n",
       "    <tr>\n",
       "      <th>2</th>\n",
       "      <td>0.808</td>\n",
       "      <td>0.97</td>\n",
       "      <td>10</td>\n",
       "      <td>-6.098</td>\n",
       "      <td>0</td>\n",
       "      <td>0.0506</td>\n",
       "      <td>0.0569</td>\n",
       "      <td>0.000061</td>\n",
       "      <td>0.154</td>\n",
       "      <td>0.868</td>\n",
       "      <td>114.328</td>\n",
       "      <td>audio_features</td>\n",
       "      <td>2gam98EZKrF9XuOkU13ApN</td>\n",
       "      <td>spotify:track:2gam98EZKrF9XuOkU13ApN</td>\n",
       "      <td>https://api.spotify.com/v1/tracks/2gam98EZKrF9...</td>\n",
       "      <td>https://api.spotify.com/v1/audio-analysis/2gam...</td>\n",
       "      <td>242293</td>\n",
       "      <td>4</td>\n",
       "      <td>NaN</td>\n",
       "    </tr>\n",
       "    <tr>\n",
       "      <th>3</th>\n",
       "      <td>0.675</td>\n",
       "      <td>0.479</td>\n",
       "      <td>0</td>\n",
       "      <td>-9.87</td>\n",
       "      <td>0</td>\n",
       "      <td>0.0278</td>\n",
       "      <td>0.633</td>\n",
       "      <td>0.000018</td>\n",
       "      <td>0.088</td>\n",
       "      <td>0.454</td>\n",
       "      <td>81.998</td>\n",
       "      <td>audio_features</td>\n",
       "      <td>0vg4WnUWvze6pBOJDTq99k</td>\n",
       "      <td>spotify:track:0vg4WnUWvze6pBOJDTq99k</td>\n",
       "      <td>https://api.spotify.com/v1/tracks/0vg4WnUWvze6...</td>\n",
       "      <td>https://api.spotify.com/v1/audio-analysis/0vg4...</td>\n",
       "      <td>209493</td>\n",
       "      <td>4</td>\n",
       "      <td>NaN</td>\n",
       "    </tr>\n",
       "    <tr>\n",
       "      <th>4</th>\n",
       "      <td>0.778</td>\n",
       "      <td>0.824</td>\n",
       "      <td>10</td>\n",
       "      <td>-5.892</td>\n",
       "      <td>0</td>\n",
       "      <td>0.0707</td>\n",
       "      <td>0.284</td>\n",
       "      <td>0</td>\n",
       "      <td>0.405</td>\n",
       "      <td>0.758</td>\n",
       "      <td>100.024</td>\n",
       "      <td>audio_features</td>\n",
       "      <td>3ZFTkvIE7kyPt6Nu3PEa7V</td>\n",
       "      <td>spotify:track:3ZFTkvIE7kyPt6Nu3PEa7V</td>\n",
       "      <td>https://api.spotify.com/v1/tracks/3ZFTkvIE7kyP...</td>\n",
       "      <td>https://api.spotify.com/v1/audio-analysis/3ZFT...</td>\n",
       "      <td>218093</td>\n",
       "      <td>4</td>\n",
       "      <td>NaN</td>\n",
       "    </tr>\n",
       "  </tbody>\n",
       "</table>\n",
       "</div>"
      ],
      "text/plain": [
       "  danceability energy key loudness mode speechiness acousticness  \\\n",
       "0        0.599  0.785   3   -4.013    1      0.0309        0.448   \n",
       "1        0.951    0.6   0   -4.675    0      0.0685        0.106   \n",
       "2        0.808   0.97  10   -6.098    0      0.0506       0.0569   \n",
       "3        0.675  0.479   0    -9.87    0      0.0278        0.633   \n",
       "4        0.778  0.824  10   -5.892    0      0.0707        0.284   \n",
       "\n",
       "  instrumentalness liveness valence    tempo            type  \\\n",
       "0          0.00336    0.151    0.52  140.046  audio_features   \n",
       "1                0   0.0712   0.822   125.04  audio_features   \n",
       "2         0.000061    0.154   0.868  114.328  audio_features   \n",
       "3         0.000018    0.088   0.454   81.998  audio_features   \n",
       "4                0    0.405   0.758  100.024  audio_features   \n",
       "\n",
       "                       id                                   uri  \\\n",
       "0  0mUyMawtxj1CJ76kn9gIZK  spotify:track:0mUyMawtxj1CJ76kn9gIZK   \n",
       "1  0k2GOhqsrxDTAbFFSdNJjT  spotify:track:0k2GOhqsrxDTAbFFSdNJjT   \n",
       "2  2gam98EZKrF9XuOkU13ApN  spotify:track:2gam98EZKrF9XuOkU13ApN   \n",
       "3  0vg4WnUWvze6pBOJDTq99k  spotify:track:0vg4WnUWvze6pBOJDTq99k   \n",
       "4  3ZFTkvIE7kyPt6Nu3PEa7V  spotify:track:3ZFTkvIE7kyPt6Nu3PEa7V   \n",
       "\n",
       "                                          track_href  \\\n",
       "0  https://api.spotify.com/v1/tracks/0mUyMawtxj1C...   \n",
       "1  https://api.spotify.com/v1/tracks/0k2GOhqsrxDT...   \n",
       "2  https://api.spotify.com/v1/tracks/2gam98EZKrF9...   \n",
       "3  https://api.spotify.com/v1/tracks/0vg4WnUWvze6...   \n",
       "4  https://api.spotify.com/v1/tracks/3ZFTkvIE7kyP...   \n",
       "\n",
       "                                        analysis_url duration_ms  \\\n",
       "0  https://api.spotify.com/v1/audio-analysis/0mUy...      233640   \n",
       "1  https://api.spotify.com/v1/audio-analysis/0k2G...      218573   \n",
       "2  https://api.spotify.com/v1/audio-analysis/2gam...      242293   \n",
       "3  https://api.spotify.com/v1/audio-analysis/0vg4...      209493   \n",
       "4  https://api.spotify.com/v1/audio-analysis/3ZFT...      218093   \n",
       "\n",
       "  time_signature error  \n",
       "0              4   NaN  \n",
       "1              4   NaN  \n",
       "2              4   NaN  \n",
       "3              4   NaN  \n",
       "4              4   NaN  "
      ]
     },
     "execution_count": 379,
     "metadata": {},
     "output_type": "execute_result"
    }
   ],
   "source": [
    "df_audio_feautures.head()"
   ]
  },
  {
   "cell_type": "code",
   "execution_count": 380,
   "metadata": {
    "ExecuteTime": {
     "end_time": "2021-06-18T13:37:40.776151Z",
     "start_time": "2021-06-18T13:37:40.763643Z"
    }
   },
   "outputs": [
    {
     "data": {
      "text/html": [
       "<div>\n",
       "<style scoped>\n",
       "    .dataframe tbody tr th:only-of-type {\n",
       "        vertical-align: middle;\n",
       "    }\n",
       "\n",
       "    .dataframe tbody tr th {\n",
       "        vertical-align: top;\n",
       "    }\n",
       "\n",
       "    .dataframe thead th {\n",
       "        text-align: right;\n",
       "    }\n",
       "</style>\n",
       "<table border=\"1\" class=\"dataframe\">\n",
       "  <thead>\n",
       "    <tr style=\"text-align: right;\">\n",
       "      <th></th>\n",
       "      <th>Rank</th>\n",
       "      <th>Title</th>\n",
       "      <th>Artist</th>\n",
       "      <th>Year</th>\n",
       "      <th>Title_spot</th>\n",
       "      <th>Artist_spot</th>\n",
       "      <th>Track_id</th>\n",
       "      <th>Track_duration_ms</th>\n",
       "      <th>Track_popularity</th>\n",
       "      <th>Track_explicit</th>\n",
       "    </tr>\n",
       "  </thead>\n",
       "  <tbody>\n",
       "    <tr>\n",
       "      <th>0</th>\n",
       "      <td>1</td>\n",
       "      <td>Bad Day</td>\n",
       "      <td>Daniel Powter</td>\n",
       "      <td>2006</td>\n",
       "      <td>Bad Day</td>\n",
       "      <td>Daniel Powter</td>\n",
       "      <td>0mUyMawtxj1CJ76kn9gIZK</td>\n",
       "      <td>233640</td>\n",
       "      <td>75</td>\n",
       "      <td>False</td>\n",
       "    </tr>\n",
       "    <tr>\n",
       "      <th>1</th>\n",
       "      <td>2</td>\n",
       "      <td>Temperature</td>\n",
       "      <td>Sean Paul</td>\n",
       "      <td>2006</td>\n",
       "      <td>Temperature</td>\n",
       "      <td>Sean Paul</td>\n",
       "      <td>0k2GOhqsrxDTAbFFSdNJjT</td>\n",
       "      <td>218573</td>\n",
       "      <td>79</td>\n",
       "      <td>False</td>\n",
       "    </tr>\n",
       "    <tr>\n",
       "      <th>2</th>\n",
       "      <td>3</td>\n",
       "      <td>Promiscuous</td>\n",
       "      <td>Nelly Furtado Featuring Timbaland</td>\n",
       "      <td>2006</td>\n",
       "      <td>Promiscuous</td>\n",
       "      <td>Nelly Furtado</td>\n",
       "      <td>2gam98EZKrF9XuOkU13ApN</td>\n",
       "      <td>242293</td>\n",
       "      <td>82</td>\n",
       "      <td>False</td>\n",
       "    </tr>\n",
       "    <tr>\n",
       "      <th>3</th>\n",
       "      <td>4</td>\n",
       "      <td>You're Beautiful</td>\n",
       "      <td>James Blunt</td>\n",
       "      <td>2006</td>\n",
       "      <td>You're Beautiful</td>\n",
       "      <td>James Blunt</td>\n",
       "      <td>0vg4WnUWvze6pBOJDTq99k</td>\n",
       "      <td>209493</td>\n",
       "      <td>77</td>\n",
       "      <td>True</td>\n",
       "    </tr>\n",
       "    <tr>\n",
       "      <th>4</th>\n",
       "      <td>5</td>\n",
       "      <td>Hips Don't Lie</td>\n",
       "      <td>Shakira Featuring Wyclef Jean</td>\n",
       "      <td>2006</td>\n",
       "      <td>Hips Don't Lie (feat. Wyclef Jean)</td>\n",
       "      <td>Shakira</td>\n",
       "      <td>3ZFTkvIE7kyPt6Nu3PEa7V</td>\n",
       "      <td>218093</td>\n",
       "      <td>84</td>\n",
       "      <td>False</td>\n",
       "    </tr>\n",
       "  </tbody>\n",
       "</table>\n",
       "</div>"
      ],
      "text/plain": [
       "  Rank             Title                             Artist  Year  \\\n",
       "0    1           Bad Day                      Daniel Powter  2006   \n",
       "1    2       Temperature                          Sean Paul  2006   \n",
       "2    3       Promiscuous  Nelly Furtado Featuring Timbaland  2006   \n",
       "3    4  You're Beautiful                        James Blunt  2006   \n",
       "4    5    Hips Don't Lie      Shakira Featuring Wyclef Jean  2006   \n",
       "\n",
       "                           Title_spot    Artist_spot                Track_id  \\\n",
       "0                             Bad Day  Daniel Powter  0mUyMawtxj1CJ76kn9gIZK   \n",
       "1                         Temperature      Sean Paul  0k2GOhqsrxDTAbFFSdNJjT   \n",
       "2                         Promiscuous  Nelly Furtado  2gam98EZKrF9XuOkU13ApN   \n",
       "3                    You're Beautiful    James Blunt  0vg4WnUWvze6pBOJDTq99k   \n",
       "4  Hips Don't Lie (feat. Wyclef Jean)        Shakira  3ZFTkvIE7kyPt6Nu3PEa7V   \n",
       "\n",
       "  Track_duration_ms Track_popularity Track_explicit  \n",
       "0            233640               75          False  \n",
       "1            218573               79          False  \n",
       "2            242293               82          False  \n",
       "3            209493               77           True  \n",
       "4            218093               84          False  "
      ]
     },
     "execution_count": 380,
     "metadata": {},
     "output_type": "execute_result"
    }
   ],
   "source": [
    "df.head()"
   ]
  },
  {
   "cell_type": "code",
   "execution_count": null,
   "metadata": {},
   "outputs": [],
   "source": []
  },
  {
   "cell_type": "code",
   "execution_count": null,
   "metadata": {},
   "outputs": [],
   "source": []
  },
  {
   "cell_type": "code",
   "execution_count": null,
   "metadata": {},
   "outputs": [],
   "source": []
  },
  {
   "cell_type": "code",
   "execution_count": null,
   "metadata": {},
   "outputs": [],
   "source": []
  },
  {
   "cell_type": "code",
   "execution_count": null,
   "metadata": {},
   "outputs": [],
   "source": []
  },
  {
   "cell_type": "markdown",
   "metadata": {},
   "source": [
    "### What to extract from spotify:\n",
    "- release_date\n",
    "- track id\n",
    "- artist id\n",
    "- name (of the artist / band)\n",
    "- type (artist/band)\n",
    "- duration (seconds)\n",
    "- genres\n",
    "- popularity?\n",
    "- "
   ]
  },
  {
   "cell_type": "code",
   "execution_count": null,
   "metadata": {},
   "outputs": [],
   "source": []
  },
  {
   "cell_type": "markdown",
   "metadata": {
    "ExecuteTime": {
     "end_time": "2021-06-17T20:45:24.333985Z",
     "start_time": "2021-06-17T20:45:24.331866Z"
    }
   },
   "source": [
    "## rough notebook"
   ]
  },
  {
   "cell_type": "code",
   "execution_count": 11,
   "metadata": {
    "ExecuteTime": {
     "end_time": "2021-06-18T06:09:27.448371Z",
     "start_time": "2021-06-18T06:09:27.443992Z"
    }
   },
   "outputs": [
    {
     "data": {
      "text/plain": [
       "\"\\naudio_features=[]\\nfor track_id in artist_track_id:\\n    audio_url= 'https://api.spotify.com/v1/audio-features/'+track_id\\n    res=requests.get(audio_url,headers=headers)\\n    audio_info=res.json()\\n    audio_features.append(audio_info)\\n\""
      ]
     },
     "execution_count": 11,
     "metadata": {},
     "output_type": "execute_result"
    }
   ],
   "source": [
    "'''\n",
    "audio_features=[]\n",
    "for track_id in artist_track_id:\n",
    "    audio_url= 'https://api.spotify.com/v1/audio-features/'+track_id\n",
    "    res=requests.get(audio_url,headers=headers)\n",
    "    audio_info=res.json()\n",
    "    audio_features.append(audio_info)\n",
    "'''"
   ]
  },
  {
   "cell_type": "code",
   "execution_count": 12,
   "metadata": {
    "ExecuteTime": {
     "end_time": "2021-06-18T06:09:27.452893Z",
     "start_time": "2021-06-18T06:09:27.450489Z"
    }
   },
   "outputs": [],
   "source": [
    "artist_name = 'Depeche Mode'\n",
    "url = 'https://api.spotify.com/v1/search'"
   ]
  },
  {
   "cell_type": "code",
   "execution_count": 13,
   "metadata": {
    "ExecuteTime": {
     "end_time": "2021-06-18T06:09:27.574664Z",
     "start_time": "2021-06-18T06:09:27.456221Z"
    }
   },
   "outputs": [],
   "source": [
    "artist = requests.get(url, params = {'q':artist_name, 'type':'artist', 'market':'DK'}, headers = headers)"
   ]
  },
  {
   "cell_type": "code",
   "execution_count": 14,
   "metadata": {
    "ExecuteTime": {
     "end_time": "2021-06-18T06:09:27.579823Z",
     "start_time": "2021-06-18T06:09:27.576362Z"
    }
   },
   "outputs": [
    {
     "data": {
      "text/plain": [
       "<Response [200]>"
      ]
     },
     "execution_count": 14,
     "metadata": {},
     "output_type": "execute_result"
    }
   ],
   "source": [
    "artist"
   ]
  },
  {
   "cell_type": "code",
   "execution_count": 15,
   "metadata": {
    "ExecuteTime": {
     "end_time": "2021-06-18T06:09:27.680858Z",
     "start_time": "2021-06-18T06:09:27.581793Z"
    }
   },
   "outputs": [
    {
     "data": {
      "text/plain": [
       "{'artists': [{'external_urls': {'spotify': 'https://open.spotify.com/artist/762310PdDnwsDxAQxzQkfX'},\n",
       "   'followers': {'href': None, 'total': 3931004},\n",
       "   'genres': ['dance rock',\n",
       "    'new romantic',\n",
       "    'new wave',\n",
       "    'permanent wave',\n",
       "    'synthpop'],\n",
       "   'href': 'https://api.spotify.com/v1/artists/762310PdDnwsDxAQxzQkfX',\n",
       "   'id': '762310PdDnwsDxAQxzQkfX',\n",
       "   'images': [{'height': 640,\n",
       "     'url': 'https://i.scdn.co/image/2ec1d1c7a48df4244f0ba708eafd28b7afa6166b',\n",
       "     'width': 640},\n",
       "    {'height': 320,\n",
       "     'url': 'https://i.scdn.co/image/ce06360d3762def7812fc5137e4e79c1467858bc',\n",
       "     'width': 320},\n",
       "    {'height': 160,\n",
       "     'url': 'https://i.scdn.co/image/b46a67a3085884321512a7a759b78c54ddb2bb31',\n",
       "     'width': 160}],\n",
       "   'name': 'Depeche Mode',\n",
       "   'popularity': 76,\n",
       "   'type': 'artist',\n",
       "   'uri': 'spotify:artist:762310PdDnwsDxAQxzQkfX'}]}"
      ]
     },
     "execution_count": 15,
     "metadata": {},
     "output_type": "execute_result"
    }
   ],
   "source": [
    "url = 'https://api.spotify.com/v1/artists'\n",
    "requests.get(url, headers = headers, params = {'ids':'762310PdDnwsDxAQxzQkfX'}).json()"
   ]
  },
  {
   "cell_type": "code",
   "execution_count": 45,
   "metadata": {
    "ExecuteTime": {
     "end_time": "2021-06-18T06:19:52.967305Z",
     "start_time": "2021-06-18T06:19:52.963493Z"
    }
   },
   "outputs": [
    {
     "data": {
      "text/plain": [
       "'\\ntrack_name = \"More Than My Hometown\"\\nurl = \\'https://api.spotify.com/v1/search\\'\\n\\ntrack = requests.get(url, headers = headers, params = {\\'q\\':track_name, \\'type\\':\\'track\\'}).json()\\n\\ntrack_name = track[\\'tracks\\'][\\'items\\'][0][\\'name\\']\\nartist_name = track[\\'tracks\\'][\\'items\\'][0][\\'album\\'][\\'artists\\'][0][\\'name\\']\\ntrack_id = track[\\'tracks\\'][\\'items\\'][0][\\'id\\']\\ntrack_duration_ms = track[\\'tracks\\'][\\'items\\'][0][\\'duration_ms\\']\\ntrack_explicit = track[\\'tracks\\'][\\'items\\'][0][\\'explicit\\']\\ntrack_popularity = track[\\'tracks\\'][\\'items\\'][0][\\'popularity\\']\\n'"
      ]
     },
     "execution_count": 45,
     "metadata": {},
     "output_type": "execute_result"
    }
   ],
   "source": [
    "# extracting main info from the songs\n",
    "'''\n",
    "track_name = \"More Than My Hometown\"\n",
    "url = 'https://api.spotify.com/v1/search'\n",
    "\n",
    "track = requests.get(url, headers = headers, params = {'q':track_name, 'type':'track'}).json()\n",
    "\n",
    "track_name = track['tracks']['items'][0]['name']\n",
    "artist_name = track['tracks']['items'][0]['album']['artists'][0]['name']\n",
    "track_id = track['tracks']['items'][0]['id']\n",
    "track_duration_ms = track['tracks']['items'][0]['duration_ms']\n",
    "track_explicit = track['tracks']['items'][0]['explicit']\n",
    "track_popularity = track['tracks']['items'][0]['popularity']\n",
    "'''"
   ]
  },
  {
   "cell_type": "code",
   "execution_count": 60,
   "metadata": {
    "ExecuteTime": {
     "end_time": "2021-06-18T06:42:00.400025Z",
     "start_time": "2021-06-18T06:42:00.396403Z"
    }
   },
   "outputs": [
    {
     "data": {
      "text/plain": [
       "\"\\n    track_name = track['tracks']['items'][0]['name']\\n    artist_name = track['tracks']['items'][0]['album']['artists'][0]['name']\\n    track_id = track['tracks']['items'][0]['id']\\n    track_duration_ms = track['tracks']['items'][0]['duration_ms']\\n    track_explicit = track['tracks']['items'][0]['explicit']\\n    track_popularity = track['tracks']['items'][0]['popularity']\\n    \""
      ]
     },
     "execution_count": 60,
     "metadata": {},
     "output_type": "execute_result"
    }
   ],
   "source": [
    "'''\n",
    "    track_name = track['tracks']['items'][0]['name']\n",
    "    artist_name = track['tracks']['items'][0]['album']['artists'][0]['name']\n",
    "    track_id = track['tracks']['items'][0]['id']\n",
    "    track_duration_ms = track['tracks']['items'][0]['duration_ms']\n",
    "    track_explicit = track['tracks']['items'][0]['explicit']\n",
    "    track_popularity = track['tracks']['items'][0]['popularity']\n",
    "    '''"
   ]
  },
  {
   "cell_type": "code",
   "execution_count": 166,
   "metadata": {
    "ExecuteTime": {
     "end_time": "2021-06-18T10:45:02.549185Z",
     "start_time": "2021-06-18T10:45:02.545384Z"
    }
   },
   "outputs": [
    {
     "data": {
      "text/plain": [
       "\"\\n\\nurl = 'https://api.spotify.com/v1/audio-features'\\n\\ndanceability = [] #555\\nenergy = [] #461\\nkey = []\\nloudness = []\\nmode = []\\nspeechiness = []\\nacousticness = []\\ninstrumentalness = []\\nliveness = []\\nvalence = []\\ntempo = []\\n\\nfor track_id in df.Track_id:\\n    track_request = requests.get(url, headers = headers, params = {'ids':track_id}).json()\\n    \\n    danceability.append(track_request['audio_features'][0]['danceability'])\\n    energy.append(track_request['audio_features'][0]['energy'])\\n    \\n\""
      ]
     },
     "execution_count": 166,
     "metadata": {},
     "output_type": "execute_result"
    }
   ],
   "source": [
    "'''\n",
    "\n",
    "url = 'https://api.spotify.com/v1/audio-features'\n",
    "\n",
    "danceability = [] #555\n",
    "energy = [] #461\n",
    "key = []\n",
    "loudness = []\n",
    "mode = []\n",
    "speechiness = []\n",
    "acousticness = []\n",
    "instrumentalness = []\n",
    "liveness = []\n",
    "valence = []\n",
    "tempo = []\n",
    "\n",
    "for track_id in df.Track_id:\n",
    "    track_request = requests.get(url, headers = headers, params = {'ids':track_id}).json()\n",
    "    \n",
    "    danceability.append(track_request['audio_features'][0]['danceability'])\n",
    "    energy.append(track_request['audio_features'][0]['energy'])\n",
    "    \n",
    "'''"
   ]
  },
  {
   "cell_type": "code",
   "execution_count": 377,
   "metadata": {
    "ExecuteTime": {
     "end_time": "2021-06-18T13:35:44.426088Z",
     "start_time": "2021-06-18T13:35:44.422012Z"
    }
   },
   "outputs": [
    {
     "data": {
      "text/plain": [
       "\"\\n# sito nereikia\\ndanceability = []\\nenergy = []\\nkey = []\\nloudness = []\\nmode = []\\nspeechiness = []\\nacousticness = []\\ninstrumentalness = []\\nliveness = []\\nvalence = []\\ntempo = []\\n\\nfor track_data in requests_list:\\n    \\n    i = 0\\n    \\n    for i in range(len(requests_list)):\\n        \\n        danceability.append(requests_list[i]['danceability'])\\n        energy.append(requests_list[i]['energy'])\\n        key.append(requests_list[i]['key'])\\n        loudness.append(requests_list[i]['loudness'])\\n        mode.append(requests_list[i]['mode'])\\n        speechiness.append(requests_list[i]['speechiness'])\\n        acousticness.append(requests_list[i]['acousticness'])\\n        instrumentalness.append(requests_list[i]['instrumentalness'])\\n        liveness.append(requests_list[i]['liveness'])\\n        valence.append(requests_list[i]['valence'])\\n        tempo.append(requests_list[i]['tempo'])\\n        \\n        i += 1\\n        \\n\""
      ]
     },
     "execution_count": 377,
     "metadata": {},
     "output_type": "execute_result"
    }
   ],
   "source": [
    "'''\n",
    "# sito nereikia\n",
    "danceability = []\n",
    "energy = []\n",
    "key = []\n",
    "loudness = []\n",
    "mode = []\n",
    "speechiness = []\n",
    "acousticness = []\n",
    "instrumentalness = []\n",
    "liveness = []\n",
    "valence = []\n",
    "tempo = []\n",
    "\n",
    "for track_data in requests_list:\n",
    "    \n",
    "    i = 0\n",
    "    \n",
    "    for i in range(len(requests_list)):\n",
    "        \n",
    "        danceability.append(requests_list[i]['danceability'])\n",
    "        energy.append(requests_list[i]['energy'])\n",
    "        key.append(requests_list[i]['key'])\n",
    "        loudness.append(requests_list[i]['loudness'])\n",
    "        mode.append(requests_list[i]['mode'])\n",
    "        speechiness.append(requests_list[i]['speechiness'])\n",
    "        acousticness.append(requests_list[i]['acousticness'])\n",
    "        instrumentalness.append(requests_list[i]['instrumentalness'])\n",
    "        liveness.append(requests_list[i]['liveness'])\n",
    "        valence.append(requests_list[i]['valence'])\n",
    "        tempo.append(requests_list[i]['tempo'])\n",
    "        \n",
    "        i += 1\n",
    "        \n",
    "'''"
   ]
  },
  {
   "cell_type": "code",
   "execution_count": null,
   "metadata": {},
   "outputs": [],
   "source": []
  },
  {
   "cell_type": "code",
   "execution_count": null,
   "metadata": {},
   "outputs": [],
   "source": []
  },
  {
   "cell_type": "markdown",
   "metadata": {},
   "source": [
    "# Notes\n",
    "- add spotify API key and secret to different jupyter notebook and run it form here"
   ]
  },
  {
   "cell_type": "code",
   "execution_count": null,
   "metadata": {},
   "outputs": [],
   "source": []
  },
  {
   "cell_type": "code",
   "execution_count": null,
   "metadata": {},
   "outputs": [],
   "source": []
  }
 ],
 "metadata": {
  "kernelspec": {
   "display_name": "Python 3",
   "language": "python",
   "name": "python3"
  },
  "language_info": {
   "codemirror_mode": {
    "name": "ipython",
    "version": 3
   },
   "file_extension": ".py",
   "mimetype": "text/x-python",
   "name": "python",
   "nbconvert_exporter": "python",
   "pygments_lexer": "ipython3",
   "version": "3.8.5"
  },
  "latex_envs": {
   "LaTeX_envs_menu_present": true,
   "autoclose": false,
   "autocomplete": true,
   "bibliofile": "biblio.bib",
   "cite_by": "apalike",
   "current_citInitial": 1,
   "eqLabelWithNumbers": true,
   "eqNumInitial": 1,
   "hotkeys": {
    "equation": "Ctrl-E",
    "itemize": "Ctrl-I"
   },
   "labels_anchors": false,
   "latex_user_defs": false,
   "report_style_numbering": false,
   "user_envs_cfg": false
  },
  "toc": {
   "base_numbering": 1,
   "nav_menu": {},
   "number_sections": true,
   "sideBar": true,
   "skip_h1_title": false,
   "title_cell": "Table of Contents",
   "title_sidebar": "Contents",
   "toc_cell": false,
   "toc_position": {},
   "toc_section_display": true,
   "toc_window_display": true
  },
  "varInspector": {
   "cols": {
    "lenName": 16,
    "lenType": 16,
    "lenVar": 40
   },
   "kernels_config": {
    "python": {
     "delete_cmd_postfix": "",
     "delete_cmd_prefix": "del ",
     "library": "var_list.py",
     "varRefreshCmd": "print(var_dic_list())"
    },
    "r": {
     "delete_cmd_postfix": ") ",
     "delete_cmd_prefix": "rm(",
     "library": "var_list.r",
     "varRefreshCmd": "cat(var_dic_list()) "
    }
   },
   "types_to_exclude": [
    "module",
    "function",
    "builtin_function_or_method",
    "instance",
    "_Feature"
   ],
   "window_display": false
  }
 },
 "nbformat": 4,
 "nbformat_minor": 4
}
